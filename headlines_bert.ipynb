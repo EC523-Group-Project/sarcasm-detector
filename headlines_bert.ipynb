{
  "nbformat": 4,
  "nbformat_minor": 0,
  "metadata": {
    "colab": {
      "name": "headlines_bert.ipynb",
      "provenance": [],
      "collapsed_sections": [],
      "include_colab_link": true
    },
    "kernelspec": {
      "name": "python3",
      "display_name": "Python 3"
    },
    "language_info": {
      "name": "python"
    },
    "accelerator": "GPU",
    "widgets": {
      "application/vnd.jupyter.widget-state+json": {
        "fe9d2f18f28f45f29f2a07d812237698": {
          "model_module": "@jupyter-widgets/controls",
          "model_name": "HBoxModel",
          "model_module_version": "1.5.0",
          "state": {
            "_dom_classes": [],
            "_model_module": "@jupyter-widgets/controls",
            "_model_module_version": "1.5.0",
            "_model_name": "HBoxModel",
            "_view_count": null,
            "_view_module": "@jupyter-widgets/controls",
            "_view_module_version": "1.5.0",
            "_view_name": "HBoxView",
            "box_style": "",
            "children": [
              "IPY_MODEL_74878e6285c54d3397352417daa69bc8",
              "IPY_MODEL_d5a778e0af9e4aed9ab641c0c6b6e795",
              "IPY_MODEL_d2477853014440828ceafca5e743ebea"
            ],
            "layout": "IPY_MODEL_6a16cbb8db424631a227b3c1e22db21b"
          }
        },
        "74878e6285c54d3397352417daa69bc8": {
          "model_module": "@jupyter-widgets/controls",
          "model_name": "HTMLModel",
          "model_module_version": "1.5.0",
          "state": {
            "_dom_classes": [],
            "_model_module": "@jupyter-widgets/controls",
            "_model_module_version": "1.5.0",
            "_model_name": "HTMLModel",
            "_view_count": null,
            "_view_module": "@jupyter-widgets/controls",
            "_view_module_version": "1.5.0",
            "_view_name": "HTMLView",
            "description": "",
            "description_tooltip": null,
            "layout": "IPY_MODEL_39b0d5d2f8534a4b827064ab2fa81a44",
            "placeholder": "​",
            "style": "IPY_MODEL_41676f6c29b7457093c34f0955f209db",
            "value": "  5%"
          }
        },
        "d5a778e0af9e4aed9ab641c0c6b6e795": {
          "model_module": "@jupyter-widgets/controls",
          "model_name": "FloatProgressModel",
          "model_module_version": "1.5.0",
          "state": {
            "_dom_classes": [],
            "_model_module": "@jupyter-widgets/controls",
            "_model_module_version": "1.5.0",
            "_model_name": "FloatProgressModel",
            "_view_count": null,
            "_view_module": "@jupyter-widgets/controls",
            "_view_module_version": "1.5.0",
            "_view_name": "ProgressView",
            "bar_style": "",
            "description": "",
            "description_tooltip": null,
            "layout": "IPY_MODEL_50854801ed0c411398abc06912e21417",
            "max": 1789,
            "min": 0,
            "orientation": "horizontal",
            "style": "IPY_MODEL_d3c3e8163c21446094b09734fbe611a8",
            "value": 91
          }
        },
        "d2477853014440828ceafca5e743ebea": {
          "model_module": "@jupyter-widgets/controls",
          "model_name": "HTMLModel",
          "model_module_version": "1.5.0",
          "state": {
            "_dom_classes": [],
            "_model_module": "@jupyter-widgets/controls",
            "_model_module_version": "1.5.0",
            "_model_name": "HTMLModel",
            "_view_count": null,
            "_view_module": "@jupyter-widgets/controls",
            "_view_module_version": "1.5.0",
            "_view_name": "HTMLView",
            "description": "",
            "description_tooltip": null,
            "layout": "IPY_MODEL_f5a4cb93a4f4464e9d2d8b02bdc50a79",
            "placeholder": "​",
            "style": "IPY_MODEL_a71ffd4ada6c4be59f0c52f7d034e4f8",
            "value": " 91/1789 [00:52&lt;16:04,  1.76it/s]"
          }
        },
        "6a16cbb8db424631a227b3c1e22db21b": {
          "model_module": "@jupyter-widgets/base",
          "model_name": "LayoutModel",
          "model_module_version": "1.2.0",
          "state": {
            "_model_module": "@jupyter-widgets/base",
            "_model_module_version": "1.2.0",
            "_model_name": "LayoutModel",
            "_view_count": null,
            "_view_module": "@jupyter-widgets/base",
            "_view_module_version": "1.2.0",
            "_view_name": "LayoutView",
            "align_content": null,
            "align_items": null,
            "align_self": null,
            "border": null,
            "bottom": null,
            "display": null,
            "flex": null,
            "flex_flow": null,
            "grid_area": null,
            "grid_auto_columns": null,
            "grid_auto_flow": null,
            "grid_auto_rows": null,
            "grid_column": null,
            "grid_gap": null,
            "grid_row": null,
            "grid_template_areas": null,
            "grid_template_columns": null,
            "grid_template_rows": null,
            "height": null,
            "justify_content": null,
            "justify_items": null,
            "left": null,
            "margin": null,
            "max_height": null,
            "max_width": null,
            "min_height": null,
            "min_width": null,
            "object_fit": null,
            "object_position": null,
            "order": null,
            "overflow": null,
            "overflow_x": null,
            "overflow_y": null,
            "padding": null,
            "right": null,
            "top": null,
            "visibility": null,
            "width": null
          }
        },
        "39b0d5d2f8534a4b827064ab2fa81a44": {
          "model_module": "@jupyter-widgets/base",
          "model_name": "LayoutModel",
          "model_module_version": "1.2.0",
          "state": {
            "_model_module": "@jupyter-widgets/base",
            "_model_module_version": "1.2.0",
            "_model_name": "LayoutModel",
            "_view_count": null,
            "_view_module": "@jupyter-widgets/base",
            "_view_module_version": "1.2.0",
            "_view_name": "LayoutView",
            "align_content": null,
            "align_items": null,
            "align_self": null,
            "border": null,
            "bottom": null,
            "display": null,
            "flex": null,
            "flex_flow": null,
            "grid_area": null,
            "grid_auto_columns": null,
            "grid_auto_flow": null,
            "grid_auto_rows": null,
            "grid_column": null,
            "grid_gap": null,
            "grid_row": null,
            "grid_template_areas": null,
            "grid_template_columns": null,
            "grid_template_rows": null,
            "height": null,
            "justify_content": null,
            "justify_items": null,
            "left": null,
            "margin": null,
            "max_height": null,
            "max_width": null,
            "min_height": null,
            "min_width": null,
            "object_fit": null,
            "object_position": null,
            "order": null,
            "overflow": null,
            "overflow_x": null,
            "overflow_y": null,
            "padding": null,
            "right": null,
            "top": null,
            "visibility": null,
            "width": null
          }
        },
        "41676f6c29b7457093c34f0955f209db": {
          "model_module": "@jupyter-widgets/controls",
          "model_name": "DescriptionStyleModel",
          "model_module_version": "1.5.0",
          "state": {
            "_model_module": "@jupyter-widgets/controls",
            "_model_module_version": "1.5.0",
            "_model_name": "DescriptionStyleModel",
            "_view_count": null,
            "_view_module": "@jupyter-widgets/base",
            "_view_module_version": "1.2.0",
            "_view_name": "StyleView",
            "description_width": ""
          }
        },
        "50854801ed0c411398abc06912e21417": {
          "model_module": "@jupyter-widgets/base",
          "model_name": "LayoutModel",
          "model_module_version": "1.2.0",
          "state": {
            "_model_module": "@jupyter-widgets/base",
            "_model_module_version": "1.2.0",
            "_model_name": "LayoutModel",
            "_view_count": null,
            "_view_module": "@jupyter-widgets/base",
            "_view_module_version": "1.2.0",
            "_view_name": "LayoutView",
            "align_content": null,
            "align_items": null,
            "align_self": null,
            "border": null,
            "bottom": null,
            "display": null,
            "flex": null,
            "flex_flow": null,
            "grid_area": null,
            "grid_auto_columns": null,
            "grid_auto_flow": null,
            "grid_auto_rows": null,
            "grid_column": null,
            "grid_gap": null,
            "grid_row": null,
            "grid_template_areas": null,
            "grid_template_columns": null,
            "grid_template_rows": null,
            "height": null,
            "justify_content": null,
            "justify_items": null,
            "left": null,
            "margin": null,
            "max_height": null,
            "max_width": null,
            "min_height": null,
            "min_width": null,
            "object_fit": null,
            "object_position": null,
            "order": null,
            "overflow": null,
            "overflow_x": null,
            "overflow_y": null,
            "padding": null,
            "right": null,
            "top": null,
            "visibility": null,
            "width": null
          }
        },
        "d3c3e8163c21446094b09734fbe611a8": {
          "model_module": "@jupyter-widgets/controls",
          "model_name": "ProgressStyleModel",
          "model_module_version": "1.5.0",
          "state": {
            "_model_module": "@jupyter-widgets/controls",
            "_model_module_version": "1.5.0",
            "_model_name": "ProgressStyleModel",
            "_view_count": null,
            "_view_module": "@jupyter-widgets/base",
            "_view_module_version": "1.2.0",
            "_view_name": "StyleView",
            "bar_color": null,
            "description_width": ""
          }
        },
        "f5a4cb93a4f4464e9d2d8b02bdc50a79": {
          "model_module": "@jupyter-widgets/base",
          "model_name": "LayoutModel",
          "model_module_version": "1.2.0",
          "state": {
            "_model_module": "@jupyter-widgets/base",
            "_model_module_version": "1.2.0",
            "_model_name": "LayoutModel",
            "_view_count": null,
            "_view_module": "@jupyter-widgets/base",
            "_view_module_version": "1.2.0",
            "_view_name": "LayoutView",
            "align_content": null,
            "align_items": null,
            "align_self": null,
            "border": null,
            "bottom": null,
            "display": null,
            "flex": null,
            "flex_flow": null,
            "grid_area": null,
            "grid_auto_columns": null,
            "grid_auto_flow": null,
            "grid_auto_rows": null,
            "grid_column": null,
            "grid_gap": null,
            "grid_row": null,
            "grid_template_areas": null,
            "grid_template_columns": null,
            "grid_template_rows": null,
            "height": null,
            "justify_content": null,
            "justify_items": null,
            "left": null,
            "margin": null,
            "max_height": null,
            "max_width": null,
            "min_height": null,
            "min_width": null,
            "object_fit": null,
            "object_position": null,
            "order": null,
            "overflow": null,
            "overflow_x": null,
            "overflow_y": null,
            "padding": null,
            "right": null,
            "top": null,
            "visibility": null,
            "width": null
          }
        },
        "a71ffd4ada6c4be59f0c52f7d034e4f8": {
          "model_module": "@jupyter-widgets/controls",
          "model_name": "DescriptionStyleModel",
          "model_module_version": "1.5.0",
          "state": {
            "_model_module": "@jupyter-widgets/controls",
            "_model_module_version": "1.5.0",
            "_model_name": "DescriptionStyleModel",
            "_view_count": null,
            "_view_module": "@jupyter-widgets/base",
            "_view_module_version": "1.2.0",
            "_view_name": "StyleView",
            "description_width": ""
          }
        }
      }
    }
  },
  "cells": [
    {
      "cell_type": "markdown",
      "metadata": {
        "id": "view-in-github",
        "colab_type": "text"
      },
      "source": [
        "<a href=\"https://colab.research.google.com/github/EC523-Group-Project/sarcasm-detector/blob/main/headlines_bert.ipynb\" target=\"_parent\"><img src=\"https://colab.research.google.com/assets/colab-badge.svg\" alt=\"Open In Colab\"/></a>"
      ]
    },
    {
      "cell_type": "code",
      "source": [
        "#  !pip install -q git+https://github.com/huggingface/transformers.git"
      ],
      "metadata": {
        "colab": {
          "base_uri": "https://localhost:8080/"
        },
        "id": "yuBOG76lSZpr",
        "outputId": "a916988a-e651-4c1c-83ad-36db0f8ca4c5"
      },
      "execution_count": null,
      "outputs": [
        {
          "output_type": "stream",
          "name": "stdout",
          "text": [
            "  Installing build dependencies ... \u001b[?25l\u001b[?25hdone\n",
            "  Getting requirements to build wheel ... \u001b[?25l\u001b[?25hdone\n",
            "    Preparing wheel metadata ... \u001b[?25l\u001b[?25hdone\n",
            "\u001b[K     |████████████████████████████████| 6.5 MB 8.6 MB/s \n",
            "\u001b[K     |████████████████████████████████| 77 kB 8.1 MB/s \n",
            "\u001b[K     |████████████████████████████████| 596 kB 64.4 MB/s \n",
            "\u001b[K     |████████████████████████████████| 895 kB 71.9 MB/s \n",
            "\u001b[?25h  Building wheel for transformers (PEP 517) ... \u001b[?25l\u001b[?25hdone\n"
          ]
        }
      ]
    },
    {
      "cell_type": "markdown",
      "source": [
        "#523 Project"
      ],
      "metadata": {
        "id": "Hxn3yq30RsU_"
      }
    },
    {
      "cell_type": "code",
      "source": [
        "try:\n",
        "    import transformers\n",
        "except ImportError as e:\n",
        "    print('transformers not installed')\n",
        "    print('Installing now...')\n",
        "    !pip install -q git+https://github.com/huggingface/transformers.git\n",
        "    pass "
      ],
      "metadata": {
        "id": "K5PH5gxUSp9K"
      },
      "execution_count": null,
      "outputs": []
    },
    {
      "cell_type": "code",
      "execution_count": null,
      "metadata": {
        "colab": {
          "base_uri": "https://localhost:8080/"
        },
        "id": "oJkBa31eRq7s",
        "outputId": "8ffafd11-5ce1-49e4-a1ff-d96a6f8387d8"
      },
      "outputs": [
        {
          "output_type": "stream",
          "name": "stdout",
          "text": [
            "Mounted at /content/gdrive\n"
          ]
        }
      ],
      "source": [
        "import torch\n",
        "import io \n",
        "import os\n",
        "from torch.utils.data import Dataset,DataLoader\n",
        "from sklearn.metrics import classification_report,accuracy_score\n",
        "import json\n",
        "from tqdm.notebook import tqdm\n",
        "from transformers.utils.dummy_pt_objects import AutoModelForSequenceClassification\n",
        "from transformers import AutoModelForTokenClassification,AutoConfig, AutoModel,AutoTokenizer,BertModel,BertConfig,AdamW, get_constant_schedule,BertForSequenceClassification,get_linear_schedule_with_warmup\n",
        "import random\n",
        "import numpy as np\n",
        "\n",
        "#Mounting Drive\n",
        "from google.colab import drive\n",
        "drive.mount('/content/gdrive')\n",
        "\n",
        "#Set device\n",
        "device = torch.device('cuda' if torch.cuda.is_available() else 'cpu')\n",
        "#Data Directory \n",
        "DATA_DIR = '/content/gdrive/Shareddrives/523 Project/Data'"
      ]
    },
    {
      "cell_type": "code",
      "source": [
        "%cd '/content/gdrive/Shareddrives/523 Project/Data'\n",
        "%ls"
      ],
      "metadata": {
        "colab": {
          "base_uri": "https://localhost:8080/"
        },
        "id": "_dlHAyT4T5NS",
        "outputId": "b55eb841-ff8a-49f1-fff3-40341629f81f"
      },
      "execution_count": null,
      "outputs": [
        {
          "output_type": "stream",
          "name": "stdout",
          "text": [
            "/content/gdrive/Shareddrives/523 Project/Data\n",
            "Sarcasm_Headlines_Dataset.json     test-unbalanced.csv\n",
            "Sarcasm_Headlines_Dataset_v2.json  train-balanced-sarcasm.csv\n",
            "test-balanced.csv\n"
          ]
        }
      ]
    },
    {
      "cell_type": "code",
      "source": [
        "\n",
        "with open('Sarcasm_Headlines_Dataset_v2.json') as f:\n",
        "    headlines = json.loads(\"[\" + \n",
        "        f.read().replace(\"}\\n{\", \"},\\n{\") + \n",
        "    \"]\")\n",
        "\n",
        "\n"
      ],
      "metadata": {
        "id": "YESWPLT9WqkE"
      },
      "execution_count": null,
      "outputs": []
    },
    {
      "cell_type": "code",
      "source": [
        "\n",
        "label = []\n",
        "hd = []\n",
        "\n",
        "for i in range(len(headlines)):\n",
        "  label.append(headlines[i]['is_sarcastic'])\n",
        "  hd.append(headlines[i]['headline'])\n",
        "\n",
        "\n"
      ],
      "metadata": {
        "id": "MxEUaAR5eceH"
      },
      "execution_count": null,
      "outputs": []
    },
    {
      "cell_type": "code",
      "source": [
        "#Class to store the headline articles\n",
        "\n",
        "class Headlines(Dataset):\n",
        "\n",
        "  def __init__(self,filepath,selected_tokenizer,max_length=None):\n",
        "\n",
        "    headlines = []\n",
        "    labels = []\n",
        "\n",
        "    #potentially assign validation and test splits within this class\n",
        "\n",
        "    \n",
        "    # Funky JSON file, need to make slight adjustments reading it in \n",
        "    with open(str(filepath)) as f:\n",
        "      data = json.loads(\"[\" + \n",
        "          f.read().replace(\"}\\n{\", \"},\\n{\") + \n",
        "      \"]\")\n",
        "\n",
        "    #Store text and label information   \n",
        "    for i in range(len(data)):\n",
        "      labels.append(data[i]['is_sarcastic'])\n",
        "      headlines.append(data[i]['headline'])\n",
        "\n",
        "    self.length = len(headlines)\n",
        "\n",
        "    if max_length == None:\n",
        "      max_length = selected_tokenizer.model_max_length\n",
        "    else:\n",
        "      max_length = max_length\n",
        "\n",
        "    #Create the tokenized version of our headlines\n",
        "\n",
        "    self.inputs = selected_tokenizer(headlines,padding = True,truncation = True, add_special_tokens = True,return_tensors='pt')\n",
        "    label_tensors = {'labels':torch.tensor(labels)}\n",
        "    self.inputs.update(label_tensors)\n",
        "\n",
        "    return\n",
        "\n",
        "  #Required for the token's being passed to the transformer \n",
        "  def __getitem__(self,item):\n",
        "    return {key: self.inputs[key][item] for key in self.inputs.keys()}\n",
        "  def __len__(self):\n",
        "    return self.length"
      ],
      "metadata": {
        "id": "UJEbsH0fTkgg"
      },
      "execution_count": null,
      "outputs": []
    },
    {
      "cell_type": "code",
      "source": [
        "print(headlines_data[1]['input_ids'])"
      ],
      "metadata": {
        "id": "QOCptQXI3XFo"
      },
      "execution_count": null,
      "outputs": []
    },
    {
      "cell_type": "code",
      "source": [
        "\n",
        "#Defining the pretrained model (BERT)\n",
        "config = AutoConfig.from_pretrained(\"bert-base-uncased\")\n",
        "selected_tokenizer = AutoTokenizer.from_pretrained(\"bert-base-uncased\")\n",
        "bert_model = BertForSequenceClassification(config)\n",
        "\n",
        "#cuda\n",
        "bert_model.to(device)\n"
      ],
      "metadata": {
        "id": "7F_NRAtnrQq1"
      },
      "execution_count": null,
      "outputs": []
    },
    {
      "cell_type": "code",
      "source": [
        "#Training data (need to split the data into train test validation, either can do this manually \n",
        "#in seperate folders, or assign splits randomly shuffled within the headlines class)\n",
        "batch_size = 16\n",
        "\n",
        "\n",
        "headlines_data = Headlines('Sarcasm_Headlines_Dataset_v2.json',selected_tokenizer = selected_tokenizer,max_length = 50)\n",
        "trainloader = DataLoader(headlines_data, batch_size = batch_size, shuffle = True)\n"
      ],
      "metadata": {
        "id": "RXQlN2vadph9"
      },
      "execution_count": null,
      "outputs": []
    },
    {
      "cell_type": "code",
      "source": [
        "\n",
        "#Optimizer and training\n",
        "Epochs = 4\n",
        "optimizer = AdamW(bert_model.parameters(),lr = 1e-3,eps = 1e-6)\n",
        "scheduler = get_linear_schedule_with_warmup(optimizer,num_warmup_steps = 0,num_training_steps = len(trainloader)*Epochs)\n",
        "\n",
        "predictions = []\n",
        "labels = []\n",
        "\n",
        "final_loss = 0\n",
        "\n",
        "bert_model.train()\n",
        "\n",
        "for epoch in range(1, Epochs+1):\n",
        "  for batch in tqdm(trainloader,total = len(trainloader)):\n",
        "\n",
        "    labels.extend(batch['labels'].numpy().flatten().tolist())\n",
        "    # for key,value in batch.items():\n",
        "    #   batch = {key:value.type(torch.long).to(device)}\n",
        "    batch = {k:v.type(torch.long).to(device) for k,v in batch.items()}\n",
        "\n",
        "\n",
        "    bert_model.zero_grad()\n",
        "\n",
        "    outputs = bert_model(**batch)\n",
        "    loss,logits = outputs[:2]\n",
        "\n",
        "    final_loss += loss.item()\n",
        "\n",
        "    loss.backward()\n",
        "    optimizer.step()\n",
        "    scheduler.step()\n",
        "\n",
        "    logits = logits.detach().cpu().numpy()\n",
        "\n",
        "    predictions.extend(logits.argmax(axis = -1).flatten().tolist())\n",
        "\n",
        "  average_loss = final_loss/len(trainloader)\n"
      ],
      "metadata": {
        "colab": {
          "base_uri": "https://localhost:8080/",
          "height": 104,
          "referenced_widgets": [
            "fe9d2f18f28f45f29f2a07d812237698",
            "74878e6285c54d3397352417daa69bc8",
            "d5a778e0af9e4aed9ab641c0c6b6e795",
            "d2477853014440828ceafca5e743ebea",
            "6a16cbb8db424631a227b3c1e22db21b",
            "39b0d5d2f8534a4b827064ab2fa81a44",
            "41676f6c29b7457093c34f0955f209db",
            "50854801ed0c411398abc06912e21417",
            "d3c3e8163c21446094b09734fbe611a8",
            "f5a4cb93a4f4464e9d2d8b02bdc50a79",
            "a71ffd4ada6c4be59f0c52f7d034e4f8"
          ]
        },
        "id": "-l937PRQjsxi",
        "outputId": "a1215994-758d-4eb1-eac3-2a9520e2da8c"
      },
      "execution_count": null,
      "outputs": [
        {
          "output_type": "stream",
          "name": "stderr",
          "text": [
            "/usr/local/lib/python3.7/dist-packages/transformers/optimization.py:309: FutureWarning: This implementation of AdamW is deprecated and will be removed in a future version. Use the PyTorch implementation torch.optim.AdamW instead, or set `no_deprecation_warning=True` to disable this warning\n",
            "  FutureWarning,\n"
          ]
        },
        {
          "output_type": "display_data",
          "data": {
            "text/plain": [
              "  0%|          | 0/1789 [00:00<?, ?it/s]"
            ],
            "application/vnd.jupyter.widget-view+json": {
              "version_major": 2,
              "version_minor": 0,
              "model_id": "fe9d2f18f28f45f29f2a07d812237698"
            }
          },
          "metadata": {}
        }
      ]
    },
    {
      "cell_type": "code",
      "source": [
        "# #Class to store the headline articles\n",
        "\n",
        "# class Headlines(Dataset):\n",
        "\n",
        "#   def __init__(self,filepath,selected_tokenizer,max_length=None):\n",
        "\n",
        "#     headlines = []\n",
        "#     labels = []\n",
        "\n",
        "\n",
        "\n",
        "    \n",
        "#     # Funky JSON file, need to make slight adjustments reading it in \n",
        "#     with open(str(filepath)) as f:\n",
        "#       data = json.loads(\"[\" + \n",
        "#           f.read().replace(\"}\\n{\", \"},\\n{\") + \n",
        "#       \"]\")\n",
        "\n",
        "#     random.shuffle(data)\n",
        "\n",
        "    \n",
        "#     #Store text and label information   \n",
        "#     for i in range(len(data)):\n",
        "#       label.append(data[i]['is_sarcastic'])\n",
        "#       headlines.append(data[i]['headline'])\n",
        "\n",
        "#     self.length = len(headlines)\n",
        "#     if max_length == None:\n",
        "#       max_length = selected_tokenizer.model_max_length\n",
        "#     else:\n",
        "#       max_length = max_length\n",
        "\n",
        "#     #Create the tokenized version of our headlines\n",
        "\n",
        "#     self.inputs = selected_tokenizer(headlines,padding = True,truncation = True, add_special_tokens = True,return_tensors='pt')\n",
        "#     label_tensors = {'labels':torch.tensor(labels)}\n",
        "#     self.inputs.update(label_tensors)\n",
        "\n",
        "#     return\n",
        "\n",
        "#     def __getitem__(self):\n",
        "#       return {key: self.inputs[key][item] for key in self.inputs.keys()}\n",
        "#     def __len__(self):\n",
        "#       return self.length"
      ],
      "metadata": {
        "id": "x1jiyzKUgyVc"
      },
      "execution_count": null,
      "outputs": []
    }
  ]
}