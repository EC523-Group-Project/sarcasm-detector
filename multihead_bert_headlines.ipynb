{
 "cells": [
  {
   "cell_type": "code",
   "execution_count": 1,
   "id": "32b39345",
   "metadata": {},
   "outputs": [],
   "source": [
    "try:\n",
    "    import transformers\n",
    "except ImportError as e:\n",
    "    print('transformers not installed')\n",
    "    print('Installing now...')\n",
    "    !pip install -q git+https://github.com/huggingface/transformers.git\n",
    "    print(\"Install complete.\")\n",
    "    pass  "
   ]
  },
  {
   "cell_type": "code",
   "execution_count": 2,
   "id": "530fec98",
   "metadata": {},
   "outputs": [
    {
     "name": "stdout",
     "output_type": "stream",
     "text": [
      "cuda\n"
     ]
    }
   ],
   "source": [
    "import torch\n",
    "import io \n",
    "import os\n",
    "from torch.utils.data import Dataset,DataLoader,TensorDataset\n",
    "from sklearn.metrics import classification_report,accuracy_score\n",
    "import transformers\n",
    "import json\n",
    "from tqdm.notebook import tqdm\n",
    "from transformers.utils.dummy_pt_objects import AutoModelForSequenceClassification\n",
    "from transformers import AutoModelForTokenClassification,AutoConfig,AutoModel,AutoTokenizer,BertModel,BertConfig,AdamW, get_constant_schedule,BertForSequenceClassification,get_linear_schedule_with_warmup\n",
    "import random\n",
    "import numpy as np\n",
    "import torch.nn as nn\n",
    "from sklearn.metrics import confusion_matrix\n",
    "from sklearn.metrics import ConfusionMatrixDisplay\n",
    "import matplotlib.pyplot as plt\n",
    "import pandas as pd\n",
    "from sklearn.model_selection import train_test_split\n",
    "\n",
    "#Set device\n",
    "device = torch.device('cuda' if torch.cuda.is_available() else 'cpu')\n",
    "print(device)"
   ]
  },
  {
   "cell_type": "code",
   "execution_count": 3,
   "id": "fdec83a7",
   "metadata": {},
   "outputs": [],
   "source": [
    "# if using Google Colab, set colab = True\n",
    "colab = False\n",
    "\n",
    "if colab == True:\n",
    "    #Mounting Drive\n",
    "    from google.colab import drive\n",
    "    drive.mount('/content/gdrive')\n",
    "    \n",
    "    %cd '/content/gdrive/Shareddrives/523 Project/Data'\n",
    "    %ls\n",
    "else:\n",
    "    DATA_DIR = '/projectnb2/dl523/students/kjv/EC523_Project/Data/'"
   ]
  },
  {
   "cell_type": "code",
   "execution_count": 4,
   "id": "6faf4606",
   "metadata": {},
   "outputs": [],
   "source": [
    "#Reading in headlines data\n",
    "df = pd.read_json(DATA_DIR + \"News Headlines/Sarcasm_Headlines_Dataset_v2.json\",lines = True)\n",
    "df = df.rename(columns={'is_sarcastic': 'label'})\n",
    "df = df.drop('article_link', 1)\n",
    "df.head()\n",
    "\n",
    "#splits for headlines training, test, and validation\n",
    "\n",
    "train_headlines, temporary_text, train_label, temporary_label = train_test_split(df['headline'], df['label'], \n",
    "                                                                    random_state=200, \n",
    "                                                                    test_size=0.2, \n",
    "                                                                    stratify=df['label'])\n",
    "\n",
    "\n",
    "\n",
    "\n",
    "\n",
    "\n",
    "\n",
    "validation_headlines, test_headlines, validation_label, test_label = train_test_split(temporary_text, temporary_label, \n",
    "                                                                    random_state=200, \n",
    "                                                                    test_size=0.5, \n",
    "                                                                    stratify=temporary_label)"
   ]
  },
  {
   "cell_type": "code",
   "execution_count": 6,
   "id": "867ce262",
   "metadata": {},
   "outputs": [],
   "source": [
    "# set max length for padding/clipping during tokenization\n",
    "max_length = 35\n",
    "\n",
    "# create tokenized training, validation, and test splits\n",
    "tokenizer = AutoTokenizer.from_pretrained(\"bert-base-uncased\")\n",
    "\n",
    "training_tokens = tokenizer.__call__(train_headlines.tolist(),max_length = max_length,padding = True,truncation = True)\n",
    "validation_tokens = tokenizer.__call__(validation_headlines.tolist(),max_length = max_length,padding = True,truncation = True)\n",
    "test_tokens = tokenizer.__call__(test_headlines.tolist(),max_length = max_length,padding= True,truncation = True)\n",
    "\n",
    "# Stacking the inputs as tensors for use in the BERT model\n",
    "\n",
    "training_set = TensorDataset(torch.tensor(training_tokens['input_ids']),torch.tensor(training_tokens['attention_mask']),torch.tensor(train_label.tolist()))\n",
    "validation_set = TensorDataset(torch.tensor(validation_tokens['input_ids']),torch.tensor(validation_tokens['attention_mask']),torch.tensor(validation_label.tolist()))\n",
    "test_set = TensorDataset(torch.tensor(test_tokens['input_ids']),torch.tensor(test_tokens['attention_mask']),torch.tensor(test_label.tolist()))"
   ]
  },
  {
   "cell_type": "code",
   "execution_count": 17,
   "id": "82cd5a62",
   "metadata": {},
   "outputs": [],
   "source": [
    "class multihead_attn_bert(nn.Module):\n",
    "\n",
    "    def __init__(self, bert_encoder, embed_dim, num_attn_layers, num_heads):\n",
    "        super(multihead_attn_bert, self).__init__()\n",
    "        \n",
    "        self.bert = bert_encoder\n",
    "        \n",
    "        self.multiheads = nn.ModuleList([nn.MultiheadAttention(embed_dim, num_heads, batch_first=True)])\n",
    "        self.multiheads.extend([nn.MultiheadAttention(embed_dim, num_heads, batch_first=True) for i in range(num_attn_layers-1)])\n",
    "        \n",
    "        self.GRU = nn.GRU(input_size=embed_dim, hidden_size=512, bidirectional=True, batch_first=True)\n",
    "        \n",
    "        # 1024 = hidden_size of GRU x 2 (for bidirectionality of GRU)\n",
    "        self.fc = nn.Linear(in_features=1024, out_features=1)\n",
    "        \n",
    "        # use dropout set of 0.2 as in paper\n",
    "        self.dropout = nn.Dropout(p=0.2)\n",
    "        \n",
    "        self.sigmoid = nn.Sigmoid()\n",
    "    \n",
    "    def forward(self, tokenized_input_values, attention_mask):\n",
    "        \n",
    "        output = self.bert(tokenized_input_values, attention_mask=attention_mask).last_hidden_state\n",
    "        \n",
    "        for multihead_layer in self.multiheads:\n",
    "            output,_ = multihead_layer(query=output,key=output,value=output,key_padding_mask=(~attention_mask.bool()))\n",
    "        \n",
    "        _,hidden = self.GRU(output)\n",
    "        \n",
    "        # concatenate bidirectional outputs from GRU to pass to linear layer\n",
    "        hidden = torch.cat([hidden[0,:, :], hidden[1,:,:]], dim=1).unsqueeze(0)\n",
    "        \n",
    "        output = self.fc(hidden)\n",
    "        \n",
    "        output = self.dropout(output)\n",
    "        \n",
    "        output = self.sigmoid(output)\n",
    "        \n",
    "        return output"
   ]
  },
  {
   "cell_type": "code",
   "execution_count": 8,
   "id": "1cebd87a",
   "metadata": {},
   "outputs": [
    {
     "name": "stderr",
     "output_type": "stream",
     "text": [
      "Some weights of the model checkpoint at bert-base-uncased were not used when initializing BertModel: ['cls.seq_relationship.weight', 'cls.predictions.bias', 'cls.seq_relationship.bias', 'cls.predictions.transform.LayerNorm.weight', 'cls.predictions.transform.dense.bias', 'cls.predictions.decoder.weight', 'cls.predictions.transform.dense.weight', 'cls.predictions.transform.LayerNorm.bias']\n",
      "- This IS expected if you are initializing BertModel from the checkpoint of a model trained on another task or with another architecture (e.g. initializing a BertForSequenceClassification model from a BertForPreTraining model).\n",
      "- This IS NOT expected if you are initializing BertModel from the checkpoint of a model that you expect to be exactly identical (initializing a BertForSequenceClassification model from a BertForSequenceClassification model).\n"
     ]
    }
   ],
   "source": [
    "# initialize pre-trained BERT large\n",
    "\n",
    "bertconfig = BertConfig()\n",
    "bert = BertModel.from_pretrained(\"bert-base-uncased\")"
   ]
  },
  {
   "cell_type": "code",
   "execution_count": 9,
   "id": "5b156c60",
   "metadata": {},
   "outputs": [],
   "source": [
    "# freeze pre-trained layers in BERT\n",
    "\n",
    "for param in bert.parameters():\n",
    "    param.requires_grad = False"
   ]
  },
  {
   "cell_type": "code",
   "execution_count": 16,
   "id": "5ddf4e63",
   "metadata": {
    "collapsed": true
   },
   "outputs": [
    {
     "data": {
      "text/plain": [
       "multihead_attn_bert(\n",
       "  (bert): BertModel(\n",
       "    (embeddings): BertEmbeddings(\n",
       "      (word_embeddings): Embedding(30522, 768, padding_idx=0)\n",
       "      (position_embeddings): Embedding(512, 768)\n",
       "      (token_type_embeddings): Embedding(2, 768)\n",
       "      (LayerNorm): LayerNorm((768,), eps=1e-12, elementwise_affine=True)\n",
       "      (dropout): Dropout(p=0.1, inplace=False)\n",
       "    )\n",
       "    (encoder): BertEncoder(\n",
       "      (layer): ModuleList(\n",
       "        (0): BertLayer(\n",
       "          (attention): BertAttention(\n",
       "            (self): BertSelfAttention(\n",
       "              (query): Linear(in_features=768, out_features=768, bias=True)\n",
       "              (key): Linear(in_features=768, out_features=768, bias=True)\n",
       "              (value): Linear(in_features=768, out_features=768, bias=True)\n",
       "              (dropout): Dropout(p=0.1, inplace=False)\n",
       "            )\n",
       "            (output): BertSelfOutput(\n",
       "              (dense): Linear(in_features=768, out_features=768, bias=True)\n",
       "              (LayerNorm): LayerNorm((768,), eps=1e-12, elementwise_affine=True)\n",
       "              (dropout): Dropout(p=0.1, inplace=False)\n",
       "            )\n",
       "          )\n",
       "          (intermediate): BertIntermediate(\n",
       "            (dense): Linear(in_features=768, out_features=3072, bias=True)\n",
       "            (intermediate_act_fn): GELUActivation()\n",
       "          )\n",
       "          (output): BertOutput(\n",
       "            (dense): Linear(in_features=3072, out_features=768, bias=True)\n",
       "            (LayerNorm): LayerNorm((768,), eps=1e-12, elementwise_affine=True)\n",
       "            (dropout): Dropout(p=0.1, inplace=False)\n",
       "          )\n",
       "        )\n",
       "        (1): BertLayer(\n",
       "          (attention): BertAttention(\n",
       "            (self): BertSelfAttention(\n",
       "              (query): Linear(in_features=768, out_features=768, bias=True)\n",
       "              (key): Linear(in_features=768, out_features=768, bias=True)\n",
       "              (value): Linear(in_features=768, out_features=768, bias=True)\n",
       "              (dropout): Dropout(p=0.1, inplace=False)\n",
       "            )\n",
       "            (output): BertSelfOutput(\n",
       "              (dense): Linear(in_features=768, out_features=768, bias=True)\n",
       "              (LayerNorm): LayerNorm((768,), eps=1e-12, elementwise_affine=True)\n",
       "              (dropout): Dropout(p=0.1, inplace=False)\n",
       "            )\n",
       "          )\n",
       "          (intermediate): BertIntermediate(\n",
       "            (dense): Linear(in_features=768, out_features=3072, bias=True)\n",
       "            (intermediate_act_fn): GELUActivation()\n",
       "          )\n",
       "          (output): BertOutput(\n",
       "            (dense): Linear(in_features=3072, out_features=768, bias=True)\n",
       "            (LayerNorm): LayerNorm((768,), eps=1e-12, elementwise_affine=True)\n",
       "            (dropout): Dropout(p=0.1, inplace=False)\n",
       "          )\n",
       "        )\n",
       "        (2): BertLayer(\n",
       "          (attention): BertAttention(\n",
       "            (self): BertSelfAttention(\n",
       "              (query): Linear(in_features=768, out_features=768, bias=True)\n",
       "              (key): Linear(in_features=768, out_features=768, bias=True)\n",
       "              (value): Linear(in_features=768, out_features=768, bias=True)\n",
       "              (dropout): Dropout(p=0.1, inplace=False)\n",
       "            )\n",
       "            (output): BertSelfOutput(\n",
       "              (dense): Linear(in_features=768, out_features=768, bias=True)\n",
       "              (LayerNorm): LayerNorm((768,), eps=1e-12, elementwise_affine=True)\n",
       "              (dropout): Dropout(p=0.1, inplace=False)\n",
       "            )\n",
       "          )\n",
       "          (intermediate): BertIntermediate(\n",
       "            (dense): Linear(in_features=768, out_features=3072, bias=True)\n",
       "            (intermediate_act_fn): GELUActivation()\n",
       "          )\n",
       "          (output): BertOutput(\n",
       "            (dense): Linear(in_features=3072, out_features=768, bias=True)\n",
       "            (LayerNorm): LayerNorm((768,), eps=1e-12, elementwise_affine=True)\n",
       "            (dropout): Dropout(p=0.1, inplace=False)\n",
       "          )\n",
       "        )\n",
       "        (3): BertLayer(\n",
       "          (attention): BertAttention(\n",
       "            (self): BertSelfAttention(\n",
       "              (query): Linear(in_features=768, out_features=768, bias=True)\n",
       "              (key): Linear(in_features=768, out_features=768, bias=True)\n",
       "              (value): Linear(in_features=768, out_features=768, bias=True)\n",
       "              (dropout): Dropout(p=0.1, inplace=False)\n",
       "            )\n",
       "            (output): BertSelfOutput(\n",
       "              (dense): Linear(in_features=768, out_features=768, bias=True)\n",
       "              (LayerNorm): LayerNorm((768,), eps=1e-12, elementwise_affine=True)\n",
       "              (dropout): Dropout(p=0.1, inplace=False)\n",
       "            )\n",
       "          )\n",
       "          (intermediate): BertIntermediate(\n",
       "            (dense): Linear(in_features=768, out_features=3072, bias=True)\n",
       "            (intermediate_act_fn): GELUActivation()\n",
       "          )\n",
       "          (output): BertOutput(\n",
       "            (dense): Linear(in_features=3072, out_features=768, bias=True)\n",
       "            (LayerNorm): LayerNorm((768,), eps=1e-12, elementwise_affine=True)\n",
       "            (dropout): Dropout(p=0.1, inplace=False)\n",
       "          )\n",
       "        )\n",
       "        (4): BertLayer(\n",
       "          (attention): BertAttention(\n",
       "            (self): BertSelfAttention(\n",
       "              (query): Linear(in_features=768, out_features=768, bias=True)\n",
       "              (key): Linear(in_features=768, out_features=768, bias=True)\n",
       "              (value): Linear(in_features=768, out_features=768, bias=True)\n",
       "              (dropout): Dropout(p=0.1, inplace=False)\n",
       "            )\n",
       "            (output): BertSelfOutput(\n",
       "              (dense): Linear(in_features=768, out_features=768, bias=True)\n",
       "              (LayerNorm): LayerNorm((768,), eps=1e-12, elementwise_affine=True)\n",
       "              (dropout): Dropout(p=0.1, inplace=False)\n",
       "            )\n",
       "          )\n",
       "          (intermediate): BertIntermediate(\n",
       "            (dense): Linear(in_features=768, out_features=3072, bias=True)\n",
       "            (intermediate_act_fn): GELUActivation()\n",
       "          )\n",
       "          (output): BertOutput(\n",
       "            (dense): Linear(in_features=3072, out_features=768, bias=True)\n",
       "            (LayerNorm): LayerNorm((768,), eps=1e-12, elementwise_affine=True)\n",
       "            (dropout): Dropout(p=0.1, inplace=False)\n",
       "          )\n",
       "        )\n",
       "        (5): BertLayer(\n",
       "          (attention): BertAttention(\n",
       "            (self): BertSelfAttention(\n",
       "              (query): Linear(in_features=768, out_features=768, bias=True)\n",
       "              (key): Linear(in_features=768, out_features=768, bias=True)\n",
       "              (value): Linear(in_features=768, out_features=768, bias=True)\n",
       "              (dropout): Dropout(p=0.1, inplace=False)\n",
       "            )\n",
       "            (output): BertSelfOutput(\n",
       "              (dense): Linear(in_features=768, out_features=768, bias=True)\n",
       "              (LayerNorm): LayerNorm((768,), eps=1e-12, elementwise_affine=True)\n",
       "              (dropout): Dropout(p=0.1, inplace=False)\n",
       "            )\n",
       "          )\n",
       "          (intermediate): BertIntermediate(\n",
       "            (dense): Linear(in_features=768, out_features=3072, bias=True)\n",
       "            (intermediate_act_fn): GELUActivation()\n",
       "          )\n",
       "          (output): BertOutput(\n",
       "            (dense): Linear(in_features=3072, out_features=768, bias=True)\n",
       "            (LayerNorm): LayerNorm((768,), eps=1e-12, elementwise_affine=True)\n",
       "            (dropout): Dropout(p=0.1, inplace=False)\n",
       "          )\n",
       "        )\n",
       "        (6): BertLayer(\n",
       "          (attention): BertAttention(\n",
       "            (self): BertSelfAttention(\n",
       "              (query): Linear(in_features=768, out_features=768, bias=True)\n",
       "              (key): Linear(in_features=768, out_features=768, bias=True)\n",
       "              (value): Linear(in_features=768, out_features=768, bias=True)\n",
       "              (dropout): Dropout(p=0.1, inplace=False)\n",
       "            )\n",
       "            (output): BertSelfOutput(\n",
       "              (dense): Linear(in_features=768, out_features=768, bias=True)\n",
       "              (LayerNorm): LayerNorm((768,), eps=1e-12, elementwise_affine=True)\n",
       "              (dropout): Dropout(p=0.1, inplace=False)\n",
       "            )\n",
       "          )\n",
       "          (intermediate): BertIntermediate(\n",
       "            (dense): Linear(in_features=768, out_features=3072, bias=True)\n",
       "            (intermediate_act_fn): GELUActivation()\n",
       "          )\n",
       "          (output): BertOutput(\n",
       "            (dense): Linear(in_features=3072, out_features=768, bias=True)\n",
       "            (LayerNorm): LayerNorm((768,), eps=1e-12, elementwise_affine=True)\n",
       "            (dropout): Dropout(p=0.1, inplace=False)\n",
       "          )\n",
       "        )\n",
       "        (7): BertLayer(\n",
       "          (attention): BertAttention(\n",
       "            (self): BertSelfAttention(\n",
       "              (query): Linear(in_features=768, out_features=768, bias=True)\n",
       "              (key): Linear(in_features=768, out_features=768, bias=True)\n",
       "              (value): Linear(in_features=768, out_features=768, bias=True)\n",
       "              (dropout): Dropout(p=0.1, inplace=False)\n",
       "            )\n",
       "            (output): BertSelfOutput(\n",
       "              (dense): Linear(in_features=768, out_features=768, bias=True)\n",
       "              (LayerNorm): LayerNorm((768,), eps=1e-12, elementwise_affine=True)\n",
       "              (dropout): Dropout(p=0.1, inplace=False)\n",
       "            )\n",
       "          )\n",
       "          (intermediate): BertIntermediate(\n",
       "            (dense): Linear(in_features=768, out_features=3072, bias=True)\n",
       "            (intermediate_act_fn): GELUActivation()\n",
       "          )\n",
       "          (output): BertOutput(\n",
       "            (dense): Linear(in_features=3072, out_features=768, bias=True)\n",
       "            (LayerNorm): LayerNorm((768,), eps=1e-12, elementwise_affine=True)\n",
       "            (dropout): Dropout(p=0.1, inplace=False)\n",
       "          )\n",
       "        )\n",
       "        (8): BertLayer(\n",
       "          (attention): BertAttention(\n",
       "            (self): BertSelfAttention(\n",
       "              (query): Linear(in_features=768, out_features=768, bias=True)\n",
       "              (key): Linear(in_features=768, out_features=768, bias=True)\n",
       "              (value): Linear(in_features=768, out_features=768, bias=True)\n",
       "              (dropout): Dropout(p=0.1, inplace=False)\n",
       "            )\n",
       "            (output): BertSelfOutput(\n",
       "              (dense): Linear(in_features=768, out_features=768, bias=True)\n",
       "              (LayerNorm): LayerNorm((768,), eps=1e-12, elementwise_affine=True)\n",
       "              (dropout): Dropout(p=0.1, inplace=False)\n",
       "            )\n",
       "          )\n",
       "          (intermediate): BertIntermediate(\n",
       "            (dense): Linear(in_features=768, out_features=3072, bias=True)\n",
       "            (intermediate_act_fn): GELUActivation()\n",
       "          )\n",
       "          (output): BertOutput(\n",
       "            (dense): Linear(in_features=3072, out_features=768, bias=True)\n",
       "            (LayerNorm): LayerNorm((768,), eps=1e-12, elementwise_affine=True)\n",
       "            (dropout): Dropout(p=0.1, inplace=False)\n",
       "          )\n",
       "        )\n",
       "        (9): BertLayer(\n",
       "          (attention): BertAttention(\n",
       "            (self): BertSelfAttention(\n",
       "              (query): Linear(in_features=768, out_features=768, bias=True)\n",
       "              (key): Linear(in_features=768, out_features=768, bias=True)\n",
       "              (value): Linear(in_features=768, out_features=768, bias=True)\n",
       "              (dropout): Dropout(p=0.1, inplace=False)\n",
       "            )\n",
       "            (output): BertSelfOutput(\n",
       "              (dense): Linear(in_features=768, out_features=768, bias=True)\n",
       "              (LayerNorm): LayerNorm((768,), eps=1e-12, elementwise_affine=True)\n",
       "              (dropout): Dropout(p=0.1, inplace=False)\n",
       "            )\n",
       "          )\n",
       "          (intermediate): BertIntermediate(\n",
       "            (dense): Linear(in_features=768, out_features=3072, bias=True)\n",
       "            (intermediate_act_fn): GELUActivation()\n",
       "          )\n",
       "          (output): BertOutput(\n",
       "            (dense): Linear(in_features=3072, out_features=768, bias=True)\n",
       "            (LayerNorm): LayerNorm((768,), eps=1e-12, elementwise_affine=True)\n",
       "            (dropout): Dropout(p=0.1, inplace=False)\n",
       "          )\n",
       "        )\n",
       "        (10): BertLayer(\n",
       "          (attention): BertAttention(\n",
       "            (self): BertSelfAttention(\n",
       "              (query): Linear(in_features=768, out_features=768, bias=True)\n",
       "              (key): Linear(in_features=768, out_features=768, bias=True)\n",
       "              (value): Linear(in_features=768, out_features=768, bias=True)\n",
       "              (dropout): Dropout(p=0.1, inplace=False)\n",
       "            )\n",
       "            (output): BertSelfOutput(\n",
       "              (dense): Linear(in_features=768, out_features=768, bias=True)\n",
       "              (LayerNorm): LayerNorm((768,), eps=1e-12, elementwise_affine=True)\n",
       "              (dropout): Dropout(p=0.1, inplace=False)\n",
       "            )\n",
       "          )\n",
       "          (intermediate): BertIntermediate(\n",
       "            (dense): Linear(in_features=768, out_features=3072, bias=True)\n",
       "            (intermediate_act_fn): GELUActivation()\n",
       "          )\n",
       "          (output): BertOutput(\n",
       "            (dense): Linear(in_features=3072, out_features=768, bias=True)\n",
       "            (LayerNorm): LayerNorm((768,), eps=1e-12, elementwise_affine=True)\n",
       "            (dropout): Dropout(p=0.1, inplace=False)\n",
       "          )\n",
       "        )\n",
       "        (11): BertLayer(\n",
       "          (attention): BertAttention(\n",
       "            (self): BertSelfAttention(\n",
       "              (query): Linear(in_features=768, out_features=768, bias=True)\n",
       "              (key): Linear(in_features=768, out_features=768, bias=True)\n",
       "              (value): Linear(in_features=768, out_features=768, bias=True)\n",
       "              (dropout): Dropout(p=0.1, inplace=False)\n",
       "            )\n",
       "            (output): BertSelfOutput(\n",
       "              (dense): Linear(in_features=768, out_features=768, bias=True)\n",
       "              (LayerNorm): LayerNorm((768,), eps=1e-12, elementwise_affine=True)\n",
       "              (dropout): Dropout(p=0.1, inplace=False)\n",
       "            )\n",
       "          )\n",
       "          (intermediate): BertIntermediate(\n",
       "            (dense): Linear(in_features=768, out_features=3072, bias=True)\n",
       "            (intermediate_act_fn): GELUActivation()\n",
       "          )\n",
       "          (output): BertOutput(\n",
       "            (dense): Linear(in_features=3072, out_features=768, bias=True)\n",
       "            (LayerNorm): LayerNorm((768,), eps=1e-12, elementwise_affine=True)\n",
       "            (dropout): Dropout(p=0.1, inplace=False)\n",
       "          )\n",
       "        )\n",
       "      )\n",
       "    )\n",
       "    (pooler): BertPooler(\n",
       "      (dense): Linear(in_features=768, out_features=768, bias=True)\n",
       "      (activation): Tanh()\n",
       "    )\n",
       "  )\n",
       "  (multiheads): ModuleList(\n",
       "    (0): MultiheadAttention(\n",
       "      (out_proj): NonDynamicallyQuantizableLinear(in_features=768, out_features=768, bias=True)\n",
       "    )\n",
       "    (1): MultiheadAttention(\n",
       "      (out_proj): NonDynamicallyQuantizableLinear(in_features=768, out_features=768, bias=True)\n",
       "    )\n",
       "    (2): MultiheadAttention(\n",
       "      (out_proj): NonDynamicallyQuantizableLinear(in_features=768, out_features=768, bias=True)\n",
       "    )\n",
       "  )\n",
       "  (GRU): GRU(768, 512, batch_first=True, bidirectional=True)\n",
       "  (fc): Linear(in_features=1024, out_features=1, bias=True)\n",
       "  (sigmoid): Sigmoid()\n",
       ")"
      ]
     },
     "execution_count": 16,
     "metadata": {},
     "output_type": "execute_result"
    }
   ],
   "source": [
    "# initialize multihead attention sarcasm model with BERT embedder\n",
    "\n",
    "# embed_dim = 768 if using bert_base, 1024 for bert_large\n",
    "mh_sarcasm_model = multihead_attn_bert(bert, embed_dim=768, num_attn_layers=3, num_heads=8)\n",
    "mh_sarcasm_model.to(device)\n",
    "\n",
    "# save untrained model weights\n",
    "torch.save(mh_sarcasm_model.state_dict(), \"/projectnb/dl523/students/kjv/EC523_Project/Saved_Models/Multihead_BERT/untrained_mhbert.pth\")"
   ]
  },
  {
   "cell_type": "code",
   "execution_count": 12,
   "id": "6a8b450d",
   "metadata": {},
   "outputs": [],
   "source": [
    "#Dataloaders for the headlines sets\n",
    "\n",
    "batch_size = 64\n",
    "\n",
    "trainloader = DataLoader(training_set, batch_size = batch_size, num_workers=2, shuffle = True)\n",
    "validationloader = DataLoader(validation_set, batch_size = batch_size, num_workers=2, shuffle = True)\n",
    "testloader = DataLoader(test_set, batch_size = batch_size, num_workers=2, shuffle = True)\n",
    "\n",
    "#Loss function (used in reference multihead attention paper)\n",
    "criterion = nn.BCELoss()"
   ]
  },
  {
   "cell_type": "code",
   "execution_count": 20,
   "id": "387686d1",
   "metadata": {},
   "outputs": [],
   "source": [
    "# define training, testing, and validation loss functions\n",
    "\n",
    "def train_mh_bert(model, trainloader, validationloader, optimizer, criterion, num_epochs, scheduler=None):\n",
    "        \n",
    "        # conditions for early stopping\n",
    "        last_val_loss = float('inf')\n",
    "        min_val_loss = float('inf')\n",
    "        patience = 3\n",
    "        es_counter = 0\n",
    "        \n",
    "        print(\"Starting training...\")\n",
    "        \n",
    "        for epoch in range(1, num_epochs+1):\n",
    "    \n",
    "            model.train()\n",
    "            if scheduler != None:\n",
    "                print(\"Learning rate: \", scheduler.get_last_lr())\n",
    "            \n",
    "            running_loss = 0\n",
    "            print('Epoch: ',epoch)\n",
    "\n",
    "            for idx, (inputs,attention_mask,label) in enumerate(tqdm(trainloader,total = len(trainloader))):\n",
    "\n",
    "                inputs, attention_mask, label = inputs.to(device),attention_mask.to(device),label.to(device)\n",
    "\n",
    "                optimizer.zero_grad()\n",
    "\n",
    "                output = mh_sarcasm_model(inputs, attention_mask)\n",
    "                output = torch.flatten(output)\n",
    "\n",
    "                # convert label type from int to float for use in BCELoss\n",
    "                label = label.float()\n",
    "                loss = criterion(output,label)\n",
    "\n",
    "                loss.backward()\n",
    "                running_loss += loss.item()\n",
    "                optimizer.step()\n",
    "\n",
    "                # print loss every 100 batches\n",
    "                if idx % 100 == 0:\n",
    "                    print('Loss: ',float(loss))\n",
    "                    running_loss = 0.0\n",
    "            \n",
    "            # adjust scheduler after every epoch\n",
    "            if scheduler != None:\n",
    "                scheduler.step()\n",
    "\n",
    "            # check for changes in avg validation loss to determine if early stopping is needed\n",
    "            print(\"Checking validation loss...\")\n",
    "            curr_val_loss = validation_loss(model, validationloader)\n",
    "            print(\"Average validation loss after last epoch: \", curr_val_loss)\n",
    "\n",
    "            if curr_val_loss > last_val_loss:\n",
    "                es_counter += 1\n",
    "\n",
    "                if es_counter >= patience:\n",
    "                    print(\"Early stopping triggered. Ending training..\")\n",
    "                    return\n",
    "                else:\n",
    "                    print(f\"Increase in validation loss! {patience-es_counter} more consecutive loss increase(s) until early stop.\")\n",
    "\n",
    "            else:\n",
    "                print(\"Decrease in validation loss. Early stop counter reset to 0.\")\n",
    "                es_counter = 0\n",
    "\n",
    "            last_val_loss = curr_val_loss\n",
    "            \n",
    "            # check to save model if validation loss is lower than min recorded validation loss\n",
    "            if curr_val_loss < min_val_loss:\n",
    "                min_val_loss = curr_val_loss\n",
    "                save_dir = \"/projectnb/dl523/students/kjv/EC523_Project/Saved_Models/Multihead_BERT/trained_MH_BERT.pth\"\n",
    "                torch.save(model.state_dict(), save_dir)\n",
    "\n",
    "def test_mh_bert(model, testloader):\n",
    "    model.eval()\n",
    "    correct = 0\n",
    "    total = 0\n",
    "    \n",
    "    with torch.no_grad():\n",
    "        for data in testloader:\n",
    "            \n",
    "            inputs, attn_mask, labels = data\n",
    "            inputs, attn_mask, labels = inputs.to(device), attn_mask.to(device), labels.to(device)\n",
    "            \n",
    "            output = torch.flatten(model(inputs, attn_mask))\n",
    "            \n",
    "            # convert output to class predictions\n",
    "            output[output<0.5] = 0\n",
    "            output[output>=0.5] = 1\n",
    "            \n",
    "            total += labels.size(0)\n",
    "            correct += (output==labels).float().sum().item()\n",
    "            \n",
    "        acc = correct/total * 100\n",
    "    \n",
    "    return acc\n",
    "\n",
    "def validation_loss(model, validationloader):\n",
    "    model.eval()\n",
    "    total_val_loss = 0\n",
    "    criterion = nn.BCELoss()\n",
    "    \n",
    "    with torch.no_grad():\n",
    "        for data in validationloader:\n",
    "            \n",
    "            inputs, attn_mask, labels = data\n",
    "            inputs, attn_mask, labels = inputs.to(device), attn_mask.to(device), labels.to(device)\n",
    "            labels = labels.float()\n",
    "            \n",
    "            output = torch.flatten(model(inputs, attn_mask))\n",
    "            loss = criterion(output, labels)\n",
    "            \n",
    "            total_val_loss += loss.item()\n",
    "    \n",
    "    avg_val_loss = total_val_loss/len(validationloader)\n",
    "    \n",
    "    return avg_val_loss"
   ]
  },
  {
   "cell_type": "code",
   "execution_count": 18,
   "id": "dcb6f0bd",
   "metadata": {},
   "outputs": [
    {
     "name": "stdout",
     "output_type": "stream",
     "text": [
      "Starting training...\n",
      "Epoch:  1\n"
     ]
    },
    {
     "data": {
      "application/vnd.jupyter.widget-view+json": {
       "model_id": "53e5390a3b2d4f2fbe57d86ca52e5175",
       "version_major": 2,
       "version_minor": 0
      },
      "text/plain": [
       "  0%|          | 0/358 [00:00<?, ?it/s]"
      ]
     },
     "metadata": {},
     "output_type": "display_data"
    },
    {
     "name": "stdout",
     "output_type": "stream",
     "text": [
      "Loss:  0.6963216066360474\n",
      "Loss:  0.418545663356781\n",
      "Loss:  0.2411714792251587\n",
      "Loss:  0.42320960760116577\n",
      "Checking validation loss...\n",
      "Average validation loss after last epoch:  0.2985598643620809\n",
      "Decrease in validation loss. Early stop counter reset to 0.\n",
      "Epoch:  2\n"
     ]
    },
    {
     "data": {
      "application/vnd.jupyter.widget-view+json": {
       "model_id": "4e928cc99df843779255e6695021b1c3",
       "version_major": 2,
       "version_minor": 0
      },
      "text/plain": [
       "  0%|          | 0/358 [00:00<?, ?it/s]"
      ]
     },
     "metadata": {},
     "output_type": "display_data"
    },
    {
     "name": "stdout",
     "output_type": "stream",
     "text": [
      "Loss:  0.2823479473590851\n",
      "Loss:  0.27974405884742737\n",
      "Loss:  0.3039320111274719\n",
      "Loss:  0.25664085149765015\n",
      "Checking validation loss...\n",
      "Average validation loss after last epoch:  0.2584587554136912\n",
      "Decrease in validation loss. Early stop counter reset to 0.\n",
      "Epoch:  3\n"
     ]
    },
    {
     "data": {
      "application/vnd.jupyter.widget-view+json": {
       "model_id": "c22b04b288c54470962202b33477f6cc",
       "version_major": 2,
       "version_minor": 0
      },
      "text/plain": [
       "  0%|          | 0/358 [00:00<?, ?it/s]"
      ]
     },
     "metadata": {},
     "output_type": "display_data"
    },
    {
     "name": "stdout",
     "output_type": "stream",
     "text": [
      "Loss:  0.14680689573287964\n",
      "Loss:  0.4012824594974518\n",
      "Loss:  0.18251962959766388\n",
      "Loss:  0.21245181560516357\n",
      "Checking validation loss...\n",
      "Average validation loss after last epoch:  0.2478137085835139\n",
      "Decrease in validation loss. Early stop counter reset to 0.\n",
      "Epoch:  4\n"
     ]
    },
    {
     "data": {
      "application/vnd.jupyter.widget-view+json": {
       "model_id": "3ef5a6df121a4f1ea3f48a2607818b77",
       "version_major": 2,
       "version_minor": 0
      },
      "text/plain": [
       "  0%|          | 0/358 [00:00<?, ?it/s]"
      ]
     },
     "metadata": {},
     "output_type": "display_data"
    },
    {
     "name": "stdout",
     "output_type": "stream",
     "text": [
      "Loss:  0.29841768741607666\n",
      "Loss:  0.1815876066684723\n",
      "Loss:  0.19436872005462646\n",
      "Loss:  0.22262385487556458\n",
      "Checking validation loss...\n",
      "Average validation loss after last epoch:  0.25016516711976794\n",
      "Increase in validation loss! 2 more consecutive loss increase(s) until early stop.\n",
      "Epoch:  5\n"
     ]
    },
    {
     "data": {
      "application/vnd.jupyter.widget-view+json": {
       "model_id": "699dcba76c8645fe9293eb471a63209a",
       "version_major": 2,
       "version_minor": 0
      },
      "text/plain": [
       "  0%|          | 0/358 [00:00<?, ?it/s]"
      ]
     },
     "metadata": {},
     "output_type": "display_data"
    },
    {
     "name": "stdout",
     "output_type": "stream",
     "text": [
      "Loss:  0.37482279539108276\n",
      "Loss:  0.28791648149490356\n",
      "Loss:  0.19054046273231506\n",
      "Loss:  0.22295452654361725\n",
      "Checking validation loss...\n",
      "Average validation loss after last epoch:  0.23309316055642235\n",
      "Decrease in validation loss. Early stop counter reset to 0.\n",
      "Epoch:  6\n"
     ]
    },
    {
     "data": {
      "application/vnd.jupyter.widget-view+json": {
       "model_id": "c6b72c632f704597a6c1d5f754f8f568",
       "version_major": 2,
       "version_minor": 0
      },
      "text/plain": [
       "  0%|          | 0/358 [00:00<?, ?it/s]"
      ]
     },
     "metadata": {},
     "output_type": "display_data"
    },
    {
     "name": "stdout",
     "output_type": "stream",
     "text": [
      "Loss:  0.14328540861606598\n",
      "Loss:  0.19539877772331238\n",
      "Loss:  0.18976709246635437\n",
      "Loss:  0.18226853013038635\n",
      "Checking validation loss...\n",
      "Average validation loss after last epoch:  0.2478480350640085\n",
      "Increase in validation loss! 2 more consecutive loss increase(s) until early stop.\n",
      "Epoch:  7\n"
     ]
    },
    {
     "data": {
      "application/vnd.jupyter.widget-view+json": {
       "model_id": "87f783746c6d4725883e86a8f28b0083",
       "version_major": 2,
       "version_minor": 0
      },
      "text/plain": [
       "  0%|          | 0/358 [00:00<?, ?it/s]"
      ]
     },
     "metadata": {},
     "output_type": "display_data"
    },
    {
     "name": "stdout",
     "output_type": "stream",
     "text": [
      "Loss:  0.32073381543159485\n",
      "Loss:  0.12422336637973785\n",
      "Loss:  0.16463278234004974\n",
      "Loss:  0.13943494856357574\n",
      "Checking validation loss...\n",
      "Average validation loss after last epoch:  0.22149229728513295\n",
      "Decrease in validation loss. Early stop counter reset to 0.\n",
      "Epoch:  8\n"
     ]
    },
    {
     "data": {
      "application/vnd.jupyter.widget-view+json": {
       "model_id": "c8b29bb373464892b1f463275dd6357b",
       "version_major": 2,
       "version_minor": 0
      },
      "text/plain": [
       "  0%|          | 0/358 [00:00<?, ?it/s]"
      ]
     },
     "metadata": {},
     "output_type": "display_data"
    },
    {
     "name": "stdout",
     "output_type": "stream",
     "text": [
      "Loss:  0.1693744957447052\n",
      "Loss:  0.09850645065307617\n",
      "Loss:  0.16211938858032227\n",
      "Loss:  0.22823259234428406\n",
      "Checking validation loss...\n",
      "Average validation loss after last epoch:  0.2490161649054951\n",
      "Increase in validation loss! 2 more consecutive loss increase(s) until early stop.\n",
      "Epoch:  9\n"
     ]
    },
    {
     "data": {
      "application/vnd.jupyter.widget-view+json": {
       "model_id": "cbc3d0bb28084d6cb4630461d2289225",
       "version_major": 2,
       "version_minor": 0
      },
      "text/plain": [
       "  0%|          | 0/358 [00:00<?, ?it/s]"
      ]
     },
     "metadata": {},
     "output_type": "display_data"
    },
    {
     "name": "stdout",
     "output_type": "stream",
     "text": [
      "Loss:  0.20200148224830627\n",
      "Loss:  0.16963420808315277\n",
      "Loss:  0.10567642748355865\n",
      "Loss:  0.3604779541492462\n",
      "Checking validation loss...\n",
      "Average validation loss after last epoch:  0.24725776529974408\n",
      "Decrease in validation loss. Early stop counter reset to 0.\n",
      "Epoch:  10\n"
     ]
    },
    {
     "data": {
      "application/vnd.jupyter.widget-view+json": {
       "model_id": "8b630ec677c74754b1fc6787c03a2e6d",
       "version_major": 2,
       "version_minor": 0
      },
      "text/plain": [
       "  0%|          | 0/358 [00:00<?, ?it/s]"
      ]
     },
     "metadata": {},
     "output_type": "display_data"
    },
    {
     "name": "stdout",
     "output_type": "stream",
     "text": [
      "Loss:  0.2297922521829605\n",
      "Loss:  0.0750618577003479\n",
      "Loss:  0.11122405529022217\n",
      "Loss:  0.2827882468700409\n",
      "Checking validation loss...\n",
      "Average validation loss after last epoch:  0.23819700280825298\n",
      "Decrease in validation loss. Early stop counter reset to 0.\n",
      "Epoch:  11\n"
     ]
    },
    {
     "data": {
      "application/vnd.jupyter.widget-view+json": {
       "model_id": "2867878a334848eda5d345a45f9d0427",
       "version_major": 2,
       "version_minor": 0
      },
      "text/plain": [
       "  0%|          | 0/358 [00:00<?, ?it/s]"
      ]
     },
     "metadata": {},
     "output_type": "display_data"
    },
    {
     "name": "stdout",
     "output_type": "stream",
     "text": [
      "Loss:  0.04376868158578873\n",
      "Loss:  0.16302360594272614\n",
      "Loss:  0.0708831325173378\n",
      "Loss:  0.24929673969745636\n",
      "Checking validation loss...\n",
      "Average validation loss after last epoch:  0.23085618697934682\n",
      "Decrease in validation loss. Early stop counter reset to 0.\n",
      "Epoch:  12\n"
     ]
    },
    {
     "data": {
      "application/vnd.jupyter.widget-view+json": {
       "model_id": "b5940d761e9e40baae69a5f0adac6119",
       "version_major": 2,
       "version_minor": 0
      },
      "text/plain": [
       "  0%|          | 0/358 [00:00<?, ?it/s]"
      ]
     },
     "metadata": {},
     "output_type": "display_data"
    },
    {
     "name": "stdout",
     "output_type": "stream",
     "text": [
      "Loss:  0.15729427337646484\n",
      "Loss:  0.22843106091022491\n",
      "Loss:  0.2104424089193344\n",
      "Loss:  0.1646895408630371\n",
      "Checking validation loss...\n",
      "Average validation loss after last epoch:  0.2216010789076487\n",
      "Decrease in validation loss. Early stop counter reset to 0.\n",
      "Epoch:  13\n"
     ]
    },
    {
     "data": {
      "application/vnd.jupyter.widget-view+json": {
       "model_id": "251bfd55680045029da50a9e033f05e7",
       "version_major": 2,
       "version_minor": 0
      },
      "text/plain": [
       "  0%|          | 0/358 [00:00<?, ?it/s]"
      ]
     },
     "metadata": {},
     "output_type": "display_data"
    },
    {
     "name": "stdout",
     "output_type": "stream",
     "text": [
      "Loss:  0.17424669861793518\n",
      "Loss:  0.21771834790706635\n",
      "Loss:  0.11546191573143005\n",
      "Loss:  0.09443441033363342\n",
      "Checking validation loss...\n",
      "Average validation loss after last epoch:  0.24912890858120387\n",
      "Increase in validation loss! 2 more consecutive loss increase(s) until early stop.\n",
      "Epoch:  14\n"
     ]
    },
    {
     "data": {
      "application/vnd.jupyter.widget-view+json": {
       "model_id": "9a95f609468143dc9ab230d00c4be2b9",
       "version_major": 2,
       "version_minor": 0
      },
      "text/plain": [
       "  0%|          | 0/358 [00:00<?, ?it/s]"
      ]
     },
     "metadata": {},
     "output_type": "display_data"
    },
    {
     "name": "stdout",
     "output_type": "stream",
     "text": [
      "Loss:  0.12638965249061584\n",
      "Loss:  0.1569819450378418\n",
      "Loss:  0.0987187922000885\n",
      "Loss:  0.18995054066181183\n",
      "Checking validation loss...\n",
      "Average validation loss after last epoch:  0.27610707845952775\n",
      "Increase in validation loss! 1 more consecutive loss increase(s) until early stop.\n",
      "Epoch:  15\n"
     ]
    },
    {
     "data": {
      "application/vnd.jupyter.widget-view+json": {
       "model_id": "2649a749f8db4a9ca21c47acfdc92195",
       "version_major": 2,
       "version_minor": 0
      },
      "text/plain": [
       "  0%|          | 0/358 [00:00<?, ?it/s]"
      ]
     },
     "metadata": {},
     "output_type": "display_data"
    },
    {
     "name": "stdout",
     "output_type": "stream",
     "text": [
      "Loss:  0.11561749875545502\n",
      "Loss:  0.1427774429321289\n",
      "Loss:  0.15124203264713287\n",
      "Loss:  0.13119392096996307\n",
      "Checking validation loss...\n",
      "Average validation loss after last epoch:  0.250098805460665\n",
      "Decrease in validation loss. Early stop counter reset to 0.\n",
      "Epoch:  16\n"
     ]
    },
    {
     "data": {
      "application/vnd.jupyter.widget-view+json": {
       "model_id": "ca37749136cd4022b4966198ea6088c0",
       "version_major": 2,
       "version_minor": 0
      },
      "text/plain": [
       "  0%|          | 0/358 [00:00<?, ?it/s]"
      ]
     },
     "metadata": {},
     "output_type": "display_data"
    },
    {
     "name": "stdout",
     "output_type": "stream",
     "text": [
      "Loss:  0.09805400669574738\n",
      "Loss:  0.09547890722751617\n",
      "Loss:  0.09471965581178665\n",
      "Loss:  0.0752532109618187\n",
      "Checking validation loss...\n",
      "Average validation loss after last epoch:  0.2603272735244698\n",
      "Increase in validation loss! 2 more consecutive loss increase(s) until early stop.\n",
      "Epoch:  17\n"
     ]
    },
    {
     "data": {
      "application/vnd.jupyter.widget-view+json": {
       "model_id": "f26ba798200b48ccb9b007c29a5b3ae2",
       "version_major": 2,
       "version_minor": 0
      },
      "text/plain": [
       "  0%|          | 0/358 [00:00<?, ?it/s]"
      ]
     },
     "metadata": {},
     "output_type": "display_data"
    },
    {
     "name": "stdout",
     "output_type": "stream",
     "text": [
      "Loss:  0.05152593553066254\n",
      "Loss:  0.061459437012672424\n",
      "Loss:  0.08125069737434387\n",
      "Loss:  0.219839408993721\n",
      "Checking validation loss...\n",
      "Average validation loss after last epoch:  0.24760983288288116\n",
      "Decrease in validation loss. Early stop counter reset to 0.\n",
      "Epoch:  18\n"
     ]
    },
    {
     "data": {
      "application/vnd.jupyter.widget-view+json": {
       "model_id": "6c23345fc81746cc8d89bf95259ec3fc",
       "version_major": 2,
       "version_minor": 0
      },
      "text/plain": [
       "  0%|          | 0/358 [00:00<?, ?it/s]"
      ]
     },
     "metadata": {},
     "output_type": "display_data"
    },
    {
     "name": "stdout",
     "output_type": "stream",
     "text": [
      "Loss:  0.054508935660123825\n",
      "Loss:  0.09287788718938828\n",
      "Loss:  0.07200321555137634\n",
      "Loss:  0.08509998023509979\n",
      "Checking validation loss...\n",
      "Average validation loss after last epoch:  0.3212813686165545\n",
      "Increase in validation loss! 2 more consecutive loss increase(s) until early stop.\n",
      "Epoch:  19\n"
     ]
    },
    {
     "data": {
      "application/vnd.jupyter.widget-view+json": {
       "model_id": "1e4b479f7a284ff4be9d2ecb5f34da75",
       "version_major": 2,
       "version_minor": 0
      },
      "text/plain": [
       "  0%|          | 0/358 [00:00<?, ?it/s]"
      ]
     },
     "metadata": {},
     "output_type": "display_data"
    },
    {
     "name": "stdout",
     "output_type": "stream",
     "text": [
      "Loss:  0.10377069562673569\n",
      "Loss:  0.04518425464630127\n",
      "Loss:  0.21159781515598297\n",
      "Loss:  0.04977882653474808\n",
      "Checking validation loss...\n",
      "Average validation loss after last epoch:  0.2924107218782107\n",
      "Decrease in validation loss. Early stop counter reset to 0.\n",
      "Epoch:  20\n"
     ]
    },
    {
     "data": {
      "application/vnd.jupyter.widget-view+json": {
       "model_id": "813614f3d0134ae28ef465a6504cb6b3",
       "version_major": 2,
       "version_minor": 0
      },
      "text/plain": [
       "  0%|          | 0/358 [00:00<?, ?it/s]"
      ]
     },
     "metadata": {},
     "output_type": "display_data"
    },
    {
     "name": "stdout",
     "output_type": "stream",
     "text": [
      "Loss:  0.12807635962963104\n",
      "Loss:  0.1465209573507309\n",
      "Loss:  0.19472277164459229\n",
      "Loss:  0.17829164862632751\n",
      "Checking validation loss...\n",
      "Average validation loss after last epoch:  0.3001458489232593\n",
      "Increase in validation loss! 2 more consecutive loss increase(s) until early stop.\n",
      "Epoch:  21\n"
     ]
    },
    {
     "data": {
      "application/vnd.jupyter.widget-view+json": {
       "model_id": "d749f0ff80084848829a315782f3a203",
       "version_major": 2,
       "version_minor": 0
      },
      "text/plain": [
       "  0%|          | 0/358 [00:00<?, ?it/s]"
      ]
     },
     "metadata": {},
     "output_type": "display_data"
    },
    {
     "name": "stdout",
     "output_type": "stream",
     "text": [
      "Loss:  0.03807127848267555\n",
      "Loss:  0.07529351115226746\n",
      "Loss:  0.14919498562812805\n",
      "Loss:  0.04066608101129532\n",
      "Checking validation loss...\n",
      "Average validation loss after last epoch:  0.28835202124383713\n",
      "Decrease in validation loss. Early stop counter reset to 0.\n",
      "Epoch:  22\n"
     ]
    },
    {
     "data": {
      "application/vnd.jupyter.widget-view+json": {
       "model_id": "39f25194a3ee41d692a32c3257f6228b",
       "version_major": 2,
       "version_minor": 0
      },
      "text/plain": [
       "  0%|          | 0/358 [00:00<?, ?it/s]"
      ]
     },
     "metadata": {},
     "output_type": "display_data"
    },
    {
     "name": "stdout",
     "output_type": "stream",
     "text": [
      "Loss:  0.0627489984035492\n",
      "Loss:  0.12410268187522888\n",
      "Loss:  0.03685704618692398\n",
      "Loss:  0.07532985508441925\n",
      "Checking validation loss...\n",
      "Average validation loss after last epoch:  0.3101462074451976\n",
      "Increase in validation loss! 2 more consecutive loss increase(s) until early stop.\n",
      "Epoch:  23\n"
     ]
    },
    {
     "data": {
      "application/vnd.jupyter.widget-view+json": {
       "model_id": "589455c36b5440758b0b7c10e8bccabb",
       "version_major": 2,
       "version_minor": 0
      },
      "text/plain": [
       "  0%|          | 0/358 [00:00<?, ?it/s]"
      ]
     },
     "metadata": {},
     "output_type": "display_data"
    },
    {
     "name": "stdout",
     "output_type": "stream",
     "text": [
      "Loss:  0.09619129449129105\n",
      "Loss:  0.09781554341316223\n",
      "Loss:  0.1956649124622345\n",
      "Loss:  0.0523945614695549\n",
      "Checking validation loss...\n",
      "Average validation loss after last epoch:  0.2714543989963002\n",
      "Decrease in validation loss. Early stop counter reset to 0.\n",
      "Epoch:  24\n"
     ]
    },
    {
     "data": {
      "application/vnd.jupyter.widget-view+json": {
       "model_id": "c66e42d8708741709f72630a8352d6bd",
       "version_major": 2,
       "version_minor": 0
      },
      "text/plain": [
       "  0%|          | 0/358 [00:00<?, ?it/s]"
      ]
     },
     "metadata": {},
     "output_type": "display_data"
    },
    {
     "name": "stdout",
     "output_type": "stream",
     "text": [
      "Loss:  0.11886343359947205\n",
      "Loss:  0.06035050377249718\n",
      "Loss:  0.12734098732471466\n",
      "Loss:  0.0851750373840332\n",
      "Checking validation loss...\n",
      "Average validation loss after last epoch:  0.3143978723221355\n",
      "Increase in validation loss! 2 more consecutive loss increase(s) until early stop.\n",
      "Epoch:  25\n"
     ]
    },
    {
     "data": {
      "application/vnd.jupyter.widget-view+json": {
       "model_id": "5d07a973744843c09f8c39390192e89d",
       "version_major": 2,
       "version_minor": 0
      },
      "text/plain": [
       "  0%|          | 0/358 [00:00<?, ?it/s]"
      ]
     },
     "metadata": {},
     "output_type": "display_data"
    },
    {
     "name": "stdout",
     "output_type": "stream",
     "text": [
      "Loss:  0.07477100938558578\n",
      "Loss:  0.0489264577627182\n",
      "Loss:  0.08604718744754791\n",
      "Loss:  0.09632599353790283\n",
      "Checking validation loss...\n",
      "Average validation loss after last epoch:  0.30025207532776726\n",
      "Decrease in validation loss. Early stop counter reset to 0.\n",
      "Epoch:  26\n"
     ]
    },
    {
     "data": {
      "application/vnd.jupyter.widget-view+json": {
       "model_id": "251320280cb843698ab3c9a34ad78174",
       "version_major": 2,
       "version_minor": 0
      },
      "text/plain": [
       "  0%|          | 0/358 [00:00<?, ?it/s]"
      ]
     },
     "metadata": {},
     "output_type": "display_data"
    },
    {
     "name": "stdout",
     "output_type": "stream",
     "text": [
      "Loss:  0.01384538970887661\n",
      "Loss:  0.06270094215869904\n",
      "Loss:  0.02390207350254059\n",
      "Loss:  0.12754742801189423\n",
      "Checking validation loss...\n",
      "Average validation loss after last epoch:  0.27340799636311003\n",
      "Decrease in validation loss. Early stop counter reset to 0.\n",
      "Epoch:  27\n"
     ]
    },
    {
     "data": {
      "application/vnd.jupyter.widget-view+json": {
       "model_id": "1aee5f70d2314f1d9947de4eb0d18ea1",
       "version_major": 2,
       "version_minor": 0
      },
      "text/plain": [
       "  0%|          | 0/358 [00:00<?, ?it/s]"
      ]
     },
     "metadata": {},
     "output_type": "display_data"
    },
    {
     "name": "stdout",
     "output_type": "stream",
     "text": [
      "Loss:  0.07131831347942352\n",
      "Loss:  0.09173595905303955\n",
      "Loss:  0.058628544211387634\n",
      "Loss:  0.0765695571899414\n",
      "Checking validation loss...\n",
      "Average validation loss after last epoch:  0.24553730189800263\n",
      "Decrease in validation loss. Early stop counter reset to 0.\n",
      "Epoch:  28\n"
     ]
    },
    {
     "data": {
      "application/vnd.jupyter.widget-view+json": {
       "model_id": "259374dcbfe64b3b9611ee397661e69b",
       "version_major": 2,
       "version_minor": 0
      },
      "text/plain": [
       "  0%|          | 0/358 [00:00<?, ?it/s]"
      ]
     },
     "metadata": {},
     "output_type": "display_data"
    },
    {
     "name": "stdout",
     "output_type": "stream",
     "text": [
      "Loss:  0.06321270763874054\n",
      "Loss:  0.10246194899082184\n",
      "Loss:  0.1639535129070282\n",
      "Loss:  0.028557563200592995\n",
      "Checking validation loss...\n",
      "Average validation loss after last epoch:  0.29703219764762456\n",
      "Increase in validation loss! 2 more consecutive loss increase(s) until early stop.\n",
      "Epoch:  29\n"
     ]
    },
    {
     "data": {
      "application/vnd.jupyter.widget-view+json": {
       "model_id": "8cafa6e43533438483187d2fd0ccbb10",
       "version_major": 2,
       "version_minor": 0
      },
      "text/plain": [
       "  0%|          | 0/358 [00:00<?, ?it/s]"
      ]
     },
     "metadata": {},
     "output_type": "display_data"
    },
    {
     "name": "stdout",
     "output_type": "stream",
     "text": [
      "Loss:  0.0160438884049654\n",
      "Loss:  0.05441546067595482\n",
      "Loss:  0.0500582791864872\n",
      "Loss:  0.03651735559105873\n",
      "Checking validation loss...\n",
      "Average validation loss after last epoch:  0.29620524504118495\n",
      "Decrease in validation loss. Early stop counter reset to 0.\n",
      "Epoch:  30\n"
     ]
    },
    {
     "data": {
      "application/vnd.jupyter.widget-view+json": {
       "model_id": "100f4f1def83473da664c9be9a9ab414",
       "version_major": 2,
       "version_minor": 0
      },
      "text/plain": [
       "  0%|          | 0/358 [00:00<?, ?it/s]"
      ]
     },
     "metadata": {},
     "output_type": "display_data"
    },
    {
     "name": "stdout",
     "output_type": "stream",
     "text": [
      "Loss:  0.07326982170343399\n",
      "Loss:  0.07617610692977905\n",
      "Loss:  0.04941151291131973\n",
      "Loss:  0.0645643025636673\n",
      "Checking validation loss...\n",
      "Average validation loss after last epoch:  0.3271255784564548\n",
      "Increase in validation loss! 2 more consecutive loss increase(s) until early stop.\n",
      "Epoch:  31\n"
     ]
    },
    {
     "data": {
      "application/vnd.jupyter.widget-view+json": {
       "model_id": "0e3920bba5e1462a85216518cb0bb53d",
       "version_major": 2,
       "version_minor": 0
      },
      "text/plain": [
       "  0%|          | 0/358 [00:00<?, ?it/s]"
      ]
     },
     "metadata": {},
     "output_type": "display_data"
    },
    {
     "name": "stdout",
     "output_type": "stream",
     "text": [
      "Loss:  0.026505418121814728\n",
      "Loss:  0.1461707353591919\n",
      "Loss:  0.04946666583418846\n",
      "Loss:  0.0724601298570633\n",
      "Checking validation loss...\n",
      "Average validation loss after last epoch:  0.28492499738931654\n",
      "Decrease in validation loss. Early stop counter reset to 0.\n",
      "Epoch:  32\n"
     ]
    },
    {
     "data": {
      "application/vnd.jupyter.widget-view+json": {
       "model_id": "9d20346ddab842939d91f243c9400183",
       "version_major": 2,
       "version_minor": 0
      },
      "text/plain": [
       "  0%|          | 0/358 [00:00<?, ?it/s]"
      ]
     },
     "metadata": {},
     "output_type": "display_data"
    },
    {
     "name": "stdout",
     "output_type": "stream",
     "text": [
      "Loss:  0.03261936828494072\n",
      "Loss:  0.060441046953201294\n",
      "Loss:  0.036171965301036835\n",
      "Loss:  0.05649522691965103\n",
      "Checking validation loss...\n",
      "Average validation loss after last epoch:  0.3582661723097165\n",
      "Increase in validation loss! 2 more consecutive loss increase(s) until early stop.\n",
      "Epoch:  33\n"
     ]
    },
    {
     "data": {
      "application/vnd.jupyter.widget-view+json": {
       "model_id": "d8fafd982f404723a601b0525060ee87",
       "version_major": 2,
       "version_minor": 0
      },
      "text/plain": [
       "  0%|          | 0/358 [00:00<?, ?it/s]"
      ]
     },
     "metadata": {},
     "output_type": "display_data"
    },
    {
     "name": "stdout",
     "output_type": "stream",
     "text": [
      "Loss:  0.046871718019247055\n",
      "Loss:  0.11241233348846436\n",
      "Loss:  0.001493986346758902\n",
      "Loss:  0.031806714832782745\n",
      "Checking validation loss...\n",
      "Average validation loss after last epoch:  0.31532224888602894\n",
      "Decrease in validation loss. Early stop counter reset to 0.\n",
      "Epoch:  34\n"
     ]
    },
    {
     "data": {
      "application/vnd.jupyter.widget-view+json": {
       "model_id": "1958e9dc6e3f4c5cacf073962dda3f54",
       "version_major": 2,
       "version_minor": 0
      },
      "text/plain": [
       "  0%|          | 0/358 [00:00<?, ?it/s]"
      ]
     },
     "metadata": {},
     "output_type": "display_data"
    },
    {
     "name": "stdout",
     "output_type": "stream",
     "text": [
      "Loss:  0.03097635880112648\n",
      "Loss:  0.10107386112213135\n",
      "Loss:  0.15578506886959076\n",
      "Loss:  0.09268830716609955\n",
      "Checking validation loss...\n",
      "Average validation loss after last epoch:  0.2991649904184871\n",
      "Decrease in validation loss. Early stop counter reset to 0.\n",
      "Epoch:  35\n"
     ]
    },
    {
     "data": {
      "application/vnd.jupyter.widget-view+json": {
       "model_id": "4f48bca6cc6840af98b671540dea284f",
       "version_major": 2,
       "version_minor": 0
      },
      "text/plain": [
       "  0%|          | 0/358 [00:00<?, ?it/s]"
      ]
     },
     "metadata": {},
     "output_type": "display_data"
    },
    {
     "name": "stdout",
     "output_type": "stream",
     "text": [
      "Loss:  0.1300961971282959\n",
      "Loss:  0.06345014274120331\n",
      "Loss:  0.02058563381433487\n",
      "Loss:  0.09868909418582916\n",
      "Checking validation loss...\n",
      "Average validation loss after last epoch:  0.34221589085128573\n",
      "Increase in validation loss! 2 more consecutive loss increase(s) until early stop.\n",
      "Epoch:  36\n"
     ]
    },
    {
     "data": {
      "application/vnd.jupyter.widget-view+json": {
       "model_id": "5e47c029d7184c4fae71103c34737ca1",
       "version_major": 2,
       "version_minor": 0
      },
      "text/plain": [
       "  0%|          | 0/358 [00:00<?, ?it/s]"
      ]
     },
     "metadata": {},
     "output_type": "display_data"
    },
    {
     "name": "stdout",
     "output_type": "stream",
     "text": [
      "Loss:  0.055060580372810364\n",
      "Loss:  0.029261277988553047\n",
      "Loss:  0.024068081751465797\n",
      "Loss:  0.031394340097904205\n",
      "Checking validation loss...\n",
      "Average validation loss after last epoch:  0.30465191304683686\n",
      "Decrease in validation loss. Early stop counter reset to 0.\n",
      "Epoch:  37\n"
     ]
    },
    {
     "data": {
      "application/vnd.jupyter.widget-view+json": {
       "model_id": "c941a42bc3914836b976b8a1153582cc",
       "version_major": 2,
       "version_minor": 0
      },
      "text/plain": [
       "  0%|          | 0/358 [00:00<?, ?it/s]"
      ]
     },
     "metadata": {},
     "output_type": "display_data"
    },
    {
     "name": "stdout",
     "output_type": "stream",
     "text": [
      "Loss:  0.08994238823652267\n",
      "Loss:  0.005597518756985664\n",
      "Loss:  0.00856197252869606\n",
      "Loss:  0.04358190298080444\n",
      "Checking validation loss...\n",
      "Average validation loss after last epoch:  0.27431729518704945\n",
      "Decrease in validation loss. Early stop counter reset to 0.\n",
      "Epoch:  38\n"
     ]
    },
    {
     "data": {
      "application/vnd.jupyter.widget-view+json": {
       "model_id": "9ec3b7d36c1a481cb96ad57a14c22516",
       "version_major": 2,
       "version_minor": 0
      },
      "text/plain": [
       "  0%|          | 0/358 [00:00<?, ?it/s]"
      ]
     },
     "metadata": {},
     "output_type": "display_data"
    },
    {
     "name": "stdout",
     "output_type": "stream",
     "text": [
      "Loss:  0.04222264140844345\n",
      "Loss:  0.030403729528188705\n",
      "Loss:  0.010294943116605282\n",
      "Loss:  0.026942409574985504\n",
      "Checking validation loss...\n",
      "Average validation loss after last epoch:  0.32540261588162844\n",
      "Increase in validation loss! 2 more consecutive loss increase(s) until early stop.\n",
      "Epoch:  39\n"
     ]
    },
    {
     "data": {
      "application/vnd.jupyter.widget-view+json": {
       "model_id": "2836040725504951bc01535017a49a0d",
       "version_major": 2,
       "version_minor": 0
      },
      "text/plain": [
       "  0%|          | 0/358 [00:00<?, ?it/s]"
      ]
     },
     "metadata": {},
     "output_type": "display_data"
    },
    {
     "name": "stdout",
     "output_type": "stream",
     "text": [
      "Loss:  0.02313464879989624\n",
      "Loss:  0.07231122255325317\n",
      "Loss:  0.0725988894701004\n",
      "Loss:  0.07587825506925583\n",
      "Checking validation loss...\n",
      "Average validation loss after last epoch:  0.394190099173122\n",
      "Increase in validation loss! 1 more consecutive loss increase(s) until early stop.\n",
      "Epoch:  40\n"
     ]
    },
    {
     "data": {
      "application/vnd.jupyter.widget-view+json": {
       "model_id": "106363180ed54fd09e69602505db175b",
       "version_major": 2,
       "version_minor": 0
      },
      "text/plain": [
       "  0%|          | 0/358 [00:00<?, ?it/s]"
      ]
     },
     "metadata": {},
     "output_type": "display_data"
    },
    {
     "name": "stdout",
     "output_type": "stream",
     "text": [
      "Loss:  0.007143646478652954\n",
      "Loss:  0.04251345992088318\n",
      "Loss:  0.049347974359989166\n",
      "Loss:  0.01922822743654251\n",
      "Checking validation loss...\n",
      "Average validation loss after last epoch:  0.37829419490363864\n",
      "Decrease in validation loss. Early stop counter reset to 0.\n",
      "Epoch:  41\n"
     ]
    },
    {
     "data": {
      "application/vnd.jupyter.widget-view+json": {
       "model_id": "f370e6b065d84aea9c1b5e844ff055ad",
       "version_major": 2,
       "version_minor": 0
      },
      "text/plain": [
       "  0%|          | 0/358 [00:00<?, ?it/s]"
      ]
     },
     "metadata": {},
     "output_type": "display_data"
    },
    {
     "name": "stdout",
     "output_type": "stream",
     "text": [
      "Loss:  0.014790802262723446\n",
      "Loss:  0.07959047704935074\n",
      "Loss:  0.003014124697074294\n",
      "Loss:  0.0021444372832775116\n",
      "Checking validation loss...\n",
      "Average validation loss after last epoch:  0.3668654439349969\n",
      "Decrease in validation loss. Early stop counter reset to 0.\n",
      "Epoch:  42\n"
     ]
    },
    {
     "data": {
      "application/vnd.jupyter.widget-view+json": {
       "model_id": "85859b32fea0471c97e4310188cc3e07",
       "version_major": 2,
       "version_minor": 0
      },
      "text/plain": [
       "  0%|          | 0/358 [00:00<?, ?it/s]"
      ]
     },
     "metadata": {},
     "output_type": "display_data"
    },
    {
     "name": "stdout",
     "output_type": "stream",
     "text": [
      "Loss:  0.11632373183965683\n",
      "Loss:  0.07253878563642502\n",
      "Loss:  0.11754895001649857\n",
      "Loss:  0.009158804081380367\n",
      "Checking validation loss...\n",
      "Average validation loss after last epoch:  0.39316093408399155\n",
      "Increase in validation loss! 2 more consecutive loss increase(s) until early stop.\n",
      "Epoch:  43\n"
     ]
    },
    {
     "data": {
      "application/vnd.jupyter.widget-view+json": {
       "model_id": "4ddd41996fb444e89a27840f6ea2fb0c",
       "version_major": 2,
       "version_minor": 0
      },
      "text/plain": [
       "  0%|          | 0/358 [00:00<?, ?it/s]"
      ]
     },
     "metadata": {},
     "output_type": "display_data"
    },
    {
     "name": "stdout",
     "output_type": "stream",
     "text": [
      "Loss:  0.009744486771523952\n",
      "Loss:  0.02714664116501808\n",
      "Loss:  0.008864670060575008\n",
      "Loss:  0.010116401128470898\n",
      "Checking validation loss...\n",
      "Average validation loss after last epoch:  0.38958994903498223\n",
      "Decrease in validation loss. Early stop counter reset to 0.\n",
      "Epoch:  44\n"
     ]
    },
    {
     "data": {
      "application/vnd.jupyter.widget-view+json": {
       "model_id": "ae29e83ed59e49878c5825b1a89ada16",
       "version_major": 2,
       "version_minor": 0
      },
      "text/plain": [
       "  0%|          | 0/358 [00:00<?, ?it/s]"
      ]
     },
     "metadata": {},
     "output_type": "display_data"
    },
    {
     "name": "stdout",
     "output_type": "stream",
     "text": [
      "Loss:  0.008632187731564045\n",
      "Loss:  0.046055980026721954\n",
      "Loss:  0.002726966282352805\n",
      "Loss:  0.01510387659072876\n",
      "Checking validation loss...\n",
      "Average validation loss after last epoch:  0.46313930973410605\n",
      "Increase in validation loss! 2 more consecutive loss increase(s) until early stop.\n",
      "Epoch:  45\n"
     ]
    },
    {
     "data": {
      "application/vnd.jupyter.widget-view+json": {
       "model_id": "0dfdd1af9735438e8296cc789a3a3c09",
       "version_major": 2,
       "version_minor": 0
      },
      "text/plain": [
       "  0%|          | 0/358 [00:00<?, ?it/s]"
      ]
     },
     "metadata": {},
     "output_type": "display_data"
    },
    {
     "name": "stdout",
     "output_type": "stream",
     "text": [
      "Loss:  0.01027741190046072\n",
      "Loss:  0.010326704941689968\n",
      "Loss:  0.02248605154454708\n",
      "Loss:  0.04264972358942032\n",
      "Checking validation loss...\n",
      "Average validation loss after last epoch:  0.35057488398419484\n",
      "Decrease in validation loss. Early stop counter reset to 0.\n",
      "Epoch:  46\n"
     ]
    },
    {
     "data": {
      "application/vnd.jupyter.widget-view+json": {
       "model_id": "3986ee3f0e0d460eb24d7b54e10058f4",
       "version_major": 2,
       "version_minor": 0
      },
      "text/plain": [
       "  0%|          | 0/358 [00:00<?, ?it/s]"
      ]
     },
     "metadata": {},
     "output_type": "display_data"
    },
    {
     "name": "stdout",
     "output_type": "stream",
     "text": [
      "Loss:  0.006908167153596878\n",
      "Loss:  0.009162016212940216\n",
      "Loss:  0.012073447927832603\n",
      "Loss:  0.024775832891464233\n",
      "Checking validation loss...\n",
      "Average validation loss after last epoch:  0.38542638710803456\n",
      "Increase in validation loss! 2 more consecutive loss increase(s) until early stop.\n",
      "Epoch:  47\n"
     ]
    },
    {
     "data": {
      "application/vnd.jupyter.widget-view+json": {
       "model_id": "c80634b839d544b1b5c37480536e3f52",
       "version_major": 2,
       "version_minor": 0
      },
      "text/plain": [
       "  0%|          | 0/358 [00:00<?, ?it/s]"
      ]
     },
     "metadata": {},
     "output_type": "display_data"
    },
    {
     "name": "stdout",
     "output_type": "stream",
     "text": [
      "Loss:  0.0041894009336829185\n",
      "Loss:  0.0646161139011383\n",
      "Loss:  0.012558885850012302\n",
      "Loss:  0.012202450074255466\n",
      "Checking validation loss...\n",
      "Average validation loss after last epoch:  0.3596651131908099\n",
      "Decrease in validation loss. Early stop counter reset to 0.\n",
      "Epoch:  48\n"
     ]
    },
    {
     "data": {
      "application/vnd.jupyter.widget-view+json": {
       "model_id": "c4f2c152742b4cd2a3a892f80d3aa6b1",
       "version_major": 2,
       "version_minor": 0
      },
      "text/plain": [
       "  0%|          | 0/358 [00:00<?, ?it/s]"
      ]
     },
     "metadata": {},
     "output_type": "display_data"
    },
    {
     "name": "stdout",
     "output_type": "stream",
     "text": [
      "Loss:  0.043110959231853485\n",
      "Loss:  0.0023991051129996777\n",
      "Loss:  0.038173235952854156\n",
      "Loss:  0.06937780976295471\n",
      "Checking validation loss...\n",
      "Average validation loss after last epoch:  0.38699375010199016\n",
      "Increase in validation loss! 2 more consecutive loss increase(s) until early stop.\n",
      "Epoch:  49\n"
     ]
    },
    {
     "data": {
      "application/vnd.jupyter.widget-view+json": {
       "model_id": "36d08c388b4f4d51872b84b32ab131fb",
       "version_major": 2,
       "version_minor": 0
      },
      "text/plain": [
       "  0%|          | 0/358 [00:00<?, ?it/s]"
      ]
     },
     "metadata": {},
     "output_type": "display_data"
    },
    {
     "name": "stdout",
     "output_type": "stream",
     "text": [
      "Loss:  0.0008595343679189682\n",
      "Loss:  0.051669199019670486\n",
      "Loss:  0.07512842863798141\n",
      "Loss:  0.0026416971813887358\n",
      "Checking validation loss...\n",
      "Average validation loss after last epoch:  0.3472749236557219\n",
      "Decrease in validation loss. Early stop counter reset to 0.\n",
      "Epoch:  50\n"
     ]
    },
    {
     "data": {
      "application/vnd.jupyter.widget-view+json": {
       "model_id": "19df7e6cf5c24d539f4c9f0f681f5c75",
       "version_major": 2,
       "version_minor": 0
      },
      "text/plain": [
       "  0%|          | 0/358 [00:00<?, ?it/s]"
      ]
     },
     "metadata": {},
     "output_type": "display_data"
    },
    {
     "name": "stdout",
     "output_type": "stream",
     "text": [
      "Loss:  0.0034973248839378357\n",
      "Loss:  0.07195261120796204\n",
      "Loss:  0.030228853225708008\n",
      "Loss:  0.030221175402402878\n",
      "Checking validation loss...\n",
      "Average validation loss after last epoch:  0.38445756344331633\n",
      "Increase in validation loss! 2 more consecutive loss increase(s) until early stop.\n"
     ]
    }
   ],
   "source": [
    "#Training mh_sarcasm bert\n",
    "num_epochs = 50\n",
    "\n",
    "# optimizer using learning rate from reference paper\n",
    "tuning_parameters = [parameter for parameter in mh_sarcasm_model.parameters() if parameter.requires_grad]\n",
    "optimizer = torch.optim.Adam(tuning_parameters,lr = 1e-4)\n",
    "# scheduler = get_linear_schedule_with_warmup(optimizer,num_warmup_steps = 0,num_training_steps = len(trainloader)*Epochs)\n",
    "\n",
    "# train the model with early stopping (add scheduler once done)\n",
    "train_mh_bert(mh_sarcasm_model, trainloader, validationloader, optimizer, criterion, num_epochs)"
   ]
  },
  {
   "cell_type": "code",
   "execution_count": 19,
   "id": "1c017f76",
   "metadata": {},
   "outputs": [
    {
     "name": "stdout",
     "output_type": "stream",
     "text": [
      "Accuracy of network: 91.61425576519916\n"
     ]
    }
   ],
   "source": [
    "# test mh_sarcasm_bert\n",
    "\n",
    "acc = test_mh_bert(mh_sarcasm_model, testloader)\n",
    "print(f\"Accuracy of network: {acc}\")"
   ]
  },
  {
   "cell_type": "code",
   "execution_count": null,
   "id": "4c4e302d",
   "metadata": {},
   "outputs": [],
   "source": [
    "# hp validation for mh_bert\n",
    "\n",
    "def perform_hp_tuning(model, trainingset, validationset, lr_array, batchsize_array, criterion, num_epochs=1):\n",
    "\n",
    "    accuracies = np.empty([len(lr_array), len(batchsize_array)])\n",
    "    tuning_parameters = [parameter for parameter in model.parameters() if parameter.requires_grad]\n",
    "\n",
    "    # run validation testing\n",
    "\n",
    "    for i, lr in enumerate(lr_array):\n",
    "        \n",
    "        # reset optimizer with new learning rate\n",
    "        optimizer = optim.SGD(tuning_parameters, lr=lr, momentum = .9)\n",
    "\n",
    "        for j, batch_size in enumerate(batchsize_array):\n",
    "\n",
    "            print(\"LEARNING RATE: \", lr)\n",
    "            print(\"BATCH SIZE: \", batch_size)\n",
    "\n",
    "            # restore untrained weights for model\n",
    "            model.load_state_dict(torch.load(\"/projectnb/dl523/students/kjv/EC523_Project/Saved_Models/Multihead_BERT/untrained_mhbert.pth\"))\n",
    "\n",
    "            # define data loaders for training and testing data\n",
    "            trainloader = torch.utils.data.DataLoader(trainingset, batch_size=batch_size, num_workers=2)\n",
    "            testloader = torch.utils.data.DataLoader(validationset, batch_size=batch_size, num_workers=2)\n",
    "            \n",
    "            # train model using current hps and early stopping\n",
    "            train_mh_bert(model, trainloader, testloader, optimizer, criterion, num_epochs)\n",
    "            \n",
    "            # test performance on validation dataset\n",
    "            result = test_mh_bert(model, testloader)\n",
    "\n",
    "            accuracies[i,j] = result\n",
    "            print(f\"Accuracy for lr={lr} and bs={batch_size}: {accuracies[i,j]}\\n\")\n",
    "\n",
    "\n",
    "    # choose learning rate and batch size with best validation accuracy\n",
    "    print(\"---HP TESTING COMPLETE---\")\n",
    "    print(\"Accuracy Matrix: \\n\", accuracies)\n",
    "    best_lr_ind, best_bs_ind = np.unravel_index(np.argmax(accuracies, axis=None), accuracies.shape)\n",
    "    \n",
    "    optimal_lr = learning_rates[best_lr_ind]\n",
    "    optimal_batch_size = batchsize_array[best_bs_ind]\n",
    "\n",
    "    print(f\"\\nBest learning rate: {optimal_lr}\")\n",
    "    print(f\"Best batch size: {optimal_batch_size}\")\n",
    "    return optimal_lr, optimal_batch_size"
   ]
  }
 ],
 "metadata": {
  "kernelspec": {
   "display_name": "Python 3",
   "language": "python",
   "name": "python3"
  },
  "language_info": {
   "codemirror_mode": {
    "name": "ipython",
    "version": 3
   },
   "file_extension": ".py",
   "mimetype": "text/x-python",
   "name": "python",
   "nbconvert_exporter": "python",
   "pygments_lexer": "ipython3",
   "version": "3.8.10"
  }
 },
 "nbformat": 4,
 "nbformat_minor": 5
}
