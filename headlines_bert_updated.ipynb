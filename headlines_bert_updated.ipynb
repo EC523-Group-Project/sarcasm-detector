{
  "cells": [
    {
      "cell_type": "markdown",
      "metadata": {
        "id": "view-in-github",
        "colab_type": "text"
      },
      "source": [
        "<a href=\"https://colab.research.google.com/github/EC523-Group-Project/sarcasm-detector/blob/main/headlines_bert_updated.ipynb\" target=\"_parent\"><img src=\"https://colab.research.google.com/assets/colab-badge.svg\" alt=\"Open In Colab\"/></a>"
      ]
    },
    {
      "cell_type": "code",
      "execution_count": null,
      "metadata": {
        "id": "yuBOG76lSZpr"
      },
      "outputs": [],
      "source": [
        "#  !pip install -q git+https://github.com/huggingface/transformers.git"
      ]
    },
    {
      "cell_type": "markdown",
      "metadata": {
        "id": "Hxn3yq30RsU_"
      },
      "source": [
        "#523 Project"
      ]
    },
    {
      "cell_type": "code",
      "execution_count": null,
      "metadata": {
        "id": "K5PH5gxUSp9K"
      },
      "outputs": [],
      "source": [
        "try:\n",
        "    import transformers\n",
        "except ImportError as e:\n",
        "    print('transformers not installed')\n",
        "    print('Installing now...')\n",
        "    !pip install -q git+https://github.com/huggingface/transformers.git\n",
        "    pass  "
      ]
    },
    {
      "cell_type": "code",
      "execution_count": null,
      "metadata": {
        "id": "oJkBa31eRq7s"
      },
      "outputs": [],
      "source": [
        "import torch\n",
        "import io \n",
        "import os\n",
        "from torch.utils.data import Dataset,DataLoader,TensorDataset\n",
        "from sklearn.metrics import classification_report,accuracy_score\n",
        "import transformers\n",
        "import json\n",
        "from tqdm.notebook import tqdm\n",
        "from transformers.utils.dummy_pt_objects import AutoModelForSequenceClassification\n",
        "from transformers import AutoModelForTokenClassification,AutoConfig, AutoModel,AutoTokenizer,BertModel,BertConfig,AdamW, get_constant_schedule,BertForSequenceClassification,get_linear_schedule_with_warmup\n",
        "import random\n",
        "import numpy as np\n",
        "import torch.nn as nn\n",
        "from sklearn.metrics import confusion_matrix\n",
        "from sklearn.metrics import ConfusionMatrixDisplay\n",
        "import matplotlib.pyplot as plt\n",
        "#Set device\n",
        "device = torch.device('cuda' if torch.cuda.is_available() else 'cpu')\n"
      ]
    },
    {
      "cell_type": "code",
      "execution_count": null,
      "metadata": {
        "id": "_dlHAyT4T5NS"
      },
      "outputs": [],
      "source": [
        "colab = False\n",
        "if colab == True:\n",
        "    #Mounting Drive\n",
        "    from google.colab import drive\n",
        "    drive.mount('/content/gdrive')\n",
        "    \n",
        "    %cd '/content/gdrive/Shareddrives/523 Project/Data'\n",
        "    %ls\n",
        "else:\n",
        "    DATA_DIR = '/projectnb2/dl523/students/colejh/pr'"
      ]
    },
    {
      "cell_type": "code",
      "execution_count": null,
      "metadata": {
        "id": "YESWPLT9WqkE"
      },
      "outputs": [],
      "source": [
        "\n",
        "# with open('Sarcasm_Headlines_Dataset_v2.json') as f:\n",
        "#     headlines = json.loads(\"[\" + \n",
        "#         f.read().replace(\"}\\n{\", \"},\\n{\") + \n",
        "#     \"]\")\n",
        "\n",
        "\n"
      ]
    },
    {
      "cell_type": "code",
      "execution_count": null,
      "metadata": {
        "id": "MxEUaAR5eceH"
      },
      "outputs": [],
      "source": [
        "\n",
        "# label = []\n",
        "# hd = []\n",
        "\n",
        "# for i in range(len(headlines)):\n",
        "#   label.append(headlines[i]['is_sarcastic'])\n",
        "#   hd.append(headlines[i]['headline'])\n",
        "\n",
        "\n"
      ]
    },
    {
      "cell_type": "code",
      "execution_count": null,
      "metadata": {
        "id": "UJEbsH0fTkgg"
      },
      "outputs": [],
      "source": [
        "#Class to store the headline articles for use with sequentialbert\n",
        "\n",
        "class Headlines(Dataset):\n",
        "\n",
        "  def __init__(self,filepath,selected_tokenizer,max_length=None):\n",
        "\n",
        "    headlines = []\n",
        "    labels = []\n",
        "\n",
        "    #potentially assign validation and test splits within this class\n",
        "\n",
        "    \n",
        "    # Funky JSON file, need to make slight adjustments reading it in \n",
        "    with open(str(filepath)) as f:\n",
        "      data = json.loads(\"[\" + \n",
        "          f.read().replace(\"}\\n{\", \"},\\n{\") + \n",
        "      \"]\")\n",
        "\n",
        "    #Store text and label information   \n",
        "    for i in range(len(data)):\n",
        "      labels.append(data[i]['is_sarcastic'])\n",
        "      headlines.append(data[i]['headline'])\n",
        "\n",
        "    self.length = len(headlines)\n",
        "\n",
        "    if max_length == None:\n",
        "      max_length = selected_tokenizer.model_max_length\n",
        "    else:\n",
        "      max_length = max_length\n",
        "\n",
        "    #Create the tokenized version of our headlines\n",
        "\n",
        "    self.inputs = selected_tokenizer(headlines,padding = True,truncation = True, add_special_tokens = True,return_tensors='pt')\n",
        "    label_tensors = {'labels':torch.tensor(labels)}\n",
        "    self.inputs.update(label_tensors)\n",
        "\n",
        "    return\n",
        "\n",
        "  #Required for the token's being passed to the transformer \n",
        "  def __getitem__(self,item):\n",
        "    return {key: self.inputs[key][item] for key in self.inputs.keys()}\n",
        "  def __len__(self):\n",
        "    return self.length"
      ]
    },
    {
      "cell_type": "code",
      "execution_count": null,
      "metadata": {
        "id": "7F_NRAtnrQq1"
      },
      "outputs": [],
      "source": [
        "\n",
        "#Defining the pretrained model (BERT)\n",
        "config = AutoConfig.from_pretrained(\"bert-base-uncased\")\n",
        "selected_tokenizer = AutoTokenizer.from_pretrained(\"bert-base-cased\")\n",
        "bert_model = BertForSequenceClassification(config)\n",
        "\n",
        "#cuda\n",
        "bert_model.to(device)\n"
      ]
    },
    {
      "cell_type": "code",
      "execution_count": null,
      "metadata": {
        "id": "RXQlN2vadph9"
      },
      "outputs": [],
      "source": [
        "#Training data (need to split the data into train test validation, either can do this manually \n",
        "#in seperate folders, or assign splits randomly shuffled within the headlines class)\n",
        "batch_size = 16\n",
        "\n",
        "\n",
        "headlines_data = Headlines('Sarcasm_Headlines_Dataset_v2.json',selected_tokenizer = selected_tokenizer,max_length = 30)\n",
        "trainloader = DataLoader(headlines_data, batch_size = batch_size, shuffle = True)\n"
      ]
    },
    {
      "cell_type": "code",
      "execution_count": null,
      "metadata": {
        "id": "QOCptQXI3XFo"
      },
      "outputs": [],
      "source": [
        "print(headlines_data[1]['input_ids'])"
      ]
    },
    {
      "cell_type": "code",
      "execution_count": null,
      "metadata": {
        "id": "-l937PRQjsxi"
      },
      "outputs": [],
      "source": [
        "\n",
        "#Optimizer and training\n",
        "Epochs = 1\n",
        "optimizer = AdamW(bert_model.parameters(),lr = 1e-3,eps = 1e-6)\n",
        "scheduler = get_linear_schedule_with_warmup(optimizer,num_warmup_steps = 0,num_training_steps = len(trainloader)*Epochs)\n",
        "\n",
        "predictions = []\n",
        "labels = []\n",
        "\n",
        "final_loss = 0\n",
        "\n",
        "bert_model.train()\n",
        "\n",
        "for epoch in range(1, Epochs+1):\n",
        "  for batch in tqdm(trainloader,total = len(trainloader)):\n",
        "\n",
        "    labels.extend(batch['labels'].numpy().flatten().tolist())\n",
        "    # for key,value in batch.items():\n",
        "    #   batch = {key:value.type(torch.long).to(device)}\n",
        "    batch = {k:v.type(torch.long).to(device) for k,v in batch.items()}\n",
        "\n",
        "\n",
        "    bert_model.zero_grad()\n",
        "\n",
        "    outputs = bert_model(**batch)\n",
        "\n",
        "    loss,logits = outputs[:2]\n",
        "\n",
        "    final_loss += loss.item()\n",
        "\n",
        "    loss.backward()\n",
        "    optimizer.step()\n",
        "    scheduler.step()\n",
        "\n",
        "    logits = logits.detach().cpu().numpy()\n",
        "\n",
        "    predictions.extend(logits.argmax(axis = -1).flatten().tolist())\n",
        "\n",
        "  average_loss = final_loss/len(trainloader)\n"
      ]
    },
    {
      "cell_type": "code",
      "execution_count": null,
      "metadata": {
        "id": "HyCa6M0sLCEL"
      },
      "outputs": [],
      "source": [
        "p = np.array(predictions)\n",
        "l = np.array(labels)\n",
        "j = p == l\n",
        "print(sum(j)/len(labels))"
      ]
    },
    {
      "cell_type": "code",
      "execution_count": null,
      "metadata": {
        "id": "LJGZfEURBZ59"
      },
      "outputs": [],
      "source": [
        "#Looking at the tokenizer and its output\n",
        "new = selected_tokenizer(\"You are teh smartest in the world, absolutely\",return_tensors=\"pt\")\n",
        "new.to(device)\n",
        "print(new)\n",
        "outputs = bert_model(**new)\n",
        "print(outputs)\n",
        "test = torch.nn.functional.softmax(outputs.logits, dim = 1)\n",
        "print(test)\n",
        "bert_model.config.id2label"
      ]
    },
    {
      "cell_type": "markdown",
      "metadata": {
        "id": "5chIZ8qYBZ5-"
      },
      "source": [
        "##Pretrained BERT as input to downstream layers"
      ]
    },
    {
      "cell_type": "code",
      "execution_count": null,
      "metadata": {
        "id": "x1jiyzKUgyVc"
      },
      "outputs": [],
      "source": [
        "#Getting the BERT outputs for use with other downstream model implementations \n",
        "import pandas as pd\n",
        "from sklearn.model_selection import train_test_split"
      ]
    },
    {
      "cell_type": "code",
      "execution_count": null,
      "metadata": {
        "id": "b8UPTpUABZ5-"
      },
      "outputs": [],
      "source": [
        "#Reading in the data\n",
        "df = pd.read_json(\"Sarcasm_Headlines_Dataset_v2.json\",lines = True)\n",
        "df = df.rename(columns={'is_sarcastic': 'label'})\n",
        "df = df.drop('article_link', 1)\n",
        "df.head()\n",
        "\n",
        "#splits for training test validation\n",
        "\n",
        "train_headlines, temporary_text, train_label, temporary_label = train_test_split(df['headline'], df['label'], \n",
        "                                                                    random_state=200, \n",
        "                                                                    test_size=0.2, \n",
        "                                                                    stratify=df['label'])\n",
        "\n",
        "\n",
        "\n",
        "\n",
        "\n",
        "\n",
        "\n",
        "validation_headlines, test_headlines, validation_label, test_label = train_test_split(temporary_text, temporary_label, \n",
        "                                                                    random_state=200, \n",
        "                                                                    test_size=0.5, \n",
        "                                                                    stratify=temporary_label)"
      ]
    },
    {
      "cell_type": "code",
      "execution_count": null,
      "metadata": {
        "id": "Q033oNHxBZ5-",
        "outputId": "da085589-9a0b-4343-c4df-058772dce3e4"
      },
      "outputs": [
        {
          "data": {
            "text/plain": [
              "bert_for_sarcasm(\n",
              "  (input_model): BertModel(\n",
              "    (embeddings): BertEmbeddings(\n",
              "      (word_embeddings): Embedding(30522, 768, padding_idx=0)\n",
              "      (position_embeddings): Embedding(512, 768)\n",
              "      (token_type_embeddings): Embedding(2, 768)\n",
              "      (LayerNorm): LayerNorm((768,), eps=1e-12, elementwise_affine=True)\n",
              "      (dropout): Dropout(p=0.1, inplace=False)\n",
              "    )\n",
              "    (encoder): BertEncoder(\n",
              "      (layer): ModuleList(\n",
              "        (0): BertLayer(\n",
              "          (attention): BertAttention(\n",
              "            (self): BertSelfAttention(\n",
              "              (query): Linear(in_features=768, out_features=768, bias=True)\n",
              "              (key): Linear(in_features=768, out_features=768, bias=True)\n",
              "              (value): Linear(in_features=768, out_features=768, bias=True)\n",
              "              (dropout): Dropout(p=0.1, inplace=False)\n",
              "            )\n",
              "            (output): BertSelfOutput(\n",
              "              (dense): Linear(in_features=768, out_features=768, bias=True)\n",
              "              (LayerNorm): LayerNorm((768,), eps=1e-12, elementwise_affine=True)\n",
              "              (dropout): Dropout(p=0.1, inplace=False)\n",
              "            )\n",
              "          )\n",
              "          (intermediate): BertIntermediate(\n",
              "            (dense): Linear(in_features=768, out_features=3072, bias=True)\n",
              "          )\n",
              "          (output): BertOutput(\n",
              "            (dense): Linear(in_features=3072, out_features=768, bias=True)\n",
              "            (LayerNorm): LayerNorm((768,), eps=1e-12, elementwise_affine=True)\n",
              "            (dropout): Dropout(p=0.1, inplace=False)\n",
              "          )\n",
              "        )\n",
              "        (1): BertLayer(\n",
              "          (attention): BertAttention(\n",
              "            (self): BertSelfAttention(\n",
              "              (query): Linear(in_features=768, out_features=768, bias=True)\n",
              "              (key): Linear(in_features=768, out_features=768, bias=True)\n",
              "              (value): Linear(in_features=768, out_features=768, bias=True)\n",
              "              (dropout): Dropout(p=0.1, inplace=False)\n",
              "            )\n",
              "            (output): BertSelfOutput(\n",
              "              (dense): Linear(in_features=768, out_features=768, bias=True)\n",
              "              (LayerNorm): LayerNorm((768,), eps=1e-12, elementwise_affine=True)\n",
              "              (dropout): Dropout(p=0.1, inplace=False)\n",
              "            )\n",
              "          )\n",
              "          (intermediate): BertIntermediate(\n",
              "            (dense): Linear(in_features=768, out_features=3072, bias=True)\n",
              "          )\n",
              "          (output): BertOutput(\n",
              "            (dense): Linear(in_features=3072, out_features=768, bias=True)\n",
              "            (LayerNorm): LayerNorm((768,), eps=1e-12, elementwise_affine=True)\n",
              "            (dropout): Dropout(p=0.1, inplace=False)\n",
              "          )\n",
              "        )\n",
              "        (2): BertLayer(\n",
              "          (attention): BertAttention(\n",
              "            (self): BertSelfAttention(\n",
              "              (query): Linear(in_features=768, out_features=768, bias=True)\n",
              "              (key): Linear(in_features=768, out_features=768, bias=True)\n",
              "              (value): Linear(in_features=768, out_features=768, bias=True)\n",
              "              (dropout): Dropout(p=0.1, inplace=False)\n",
              "            )\n",
              "            (output): BertSelfOutput(\n",
              "              (dense): Linear(in_features=768, out_features=768, bias=True)\n",
              "              (LayerNorm): LayerNorm((768,), eps=1e-12, elementwise_affine=True)\n",
              "              (dropout): Dropout(p=0.1, inplace=False)\n",
              "            )\n",
              "          )\n",
              "          (intermediate): BertIntermediate(\n",
              "            (dense): Linear(in_features=768, out_features=3072, bias=True)\n",
              "          )\n",
              "          (output): BertOutput(\n",
              "            (dense): Linear(in_features=3072, out_features=768, bias=True)\n",
              "            (LayerNorm): LayerNorm((768,), eps=1e-12, elementwise_affine=True)\n",
              "            (dropout): Dropout(p=0.1, inplace=False)\n",
              "          )\n",
              "        )\n",
              "        (3): BertLayer(\n",
              "          (attention): BertAttention(\n",
              "            (self): BertSelfAttention(\n",
              "              (query): Linear(in_features=768, out_features=768, bias=True)\n",
              "              (key): Linear(in_features=768, out_features=768, bias=True)\n",
              "              (value): Linear(in_features=768, out_features=768, bias=True)\n",
              "              (dropout): Dropout(p=0.1, inplace=False)\n",
              "            )\n",
              "            (output): BertSelfOutput(\n",
              "              (dense): Linear(in_features=768, out_features=768, bias=True)\n",
              "              (LayerNorm): LayerNorm((768,), eps=1e-12, elementwise_affine=True)\n",
              "              (dropout): Dropout(p=0.1, inplace=False)\n",
              "            )\n",
              "          )\n",
              "          (intermediate): BertIntermediate(\n",
              "            (dense): Linear(in_features=768, out_features=3072, bias=True)\n",
              "          )\n",
              "          (output): BertOutput(\n",
              "            (dense): Linear(in_features=3072, out_features=768, bias=True)\n",
              "            (LayerNorm): LayerNorm((768,), eps=1e-12, elementwise_affine=True)\n",
              "            (dropout): Dropout(p=0.1, inplace=False)\n",
              "          )\n",
              "        )\n",
              "        (4): BertLayer(\n",
              "          (attention): BertAttention(\n",
              "            (self): BertSelfAttention(\n",
              "              (query): Linear(in_features=768, out_features=768, bias=True)\n",
              "              (key): Linear(in_features=768, out_features=768, bias=True)\n",
              "              (value): Linear(in_features=768, out_features=768, bias=True)\n",
              "              (dropout): Dropout(p=0.1, inplace=False)\n",
              "            )\n",
              "            (output): BertSelfOutput(\n",
              "              (dense): Linear(in_features=768, out_features=768, bias=True)\n",
              "              (LayerNorm): LayerNorm((768,), eps=1e-12, elementwise_affine=True)\n",
              "              (dropout): Dropout(p=0.1, inplace=False)\n",
              "            )\n",
              "          )\n",
              "          (intermediate): BertIntermediate(\n",
              "            (dense): Linear(in_features=768, out_features=3072, bias=True)\n",
              "          )\n",
              "          (output): BertOutput(\n",
              "            (dense): Linear(in_features=3072, out_features=768, bias=True)\n",
              "            (LayerNorm): LayerNorm((768,), eps=1e-12, elementwise_affine=True)\n",
              "            (dropout): Dropout(p=0.1, inplace=False)\n",
              "          )\n",
              "        )\n",
              "        (5): BertLayer(\n",
              "          (attention): BertAttention(\n",
              "            (self): BertSelfAttention(\n",
              "              (query): Linear(in_features=768, out_features=768, bias=True)\n",
              "              (key): Linear(in_features=768, out_features=768, bias=True)\n",
              "              (value): Linear(in_features=768, out_features=768, bias=True)\n",
              "              (dropout): Dropout(p=0.1, inplace=False)\n",
              "            )\n",
              "            (output): BertSelfOutput(\n",
              "              (dense): Linear(in_features=768, out_features=768, bias=True)\n",
              "              (LayerNorm): LayerNorm((768,), eps=1e-12, elementwise_affine=True)\n",
              "              (dropout): Dropout(p=0.1, inplace=False)\n",
              "            )\n",
              "          )\n",
              "          (intermediate): BertIntermediate(\n",
              "            (dense): Linear(in_features=768, out_features=3072, bias=True)\n",
              "          )\n",
              "          (output): BertOutput(\n",
              "            (dense): Linear(in_features=3072, out_features=768, bias=True)\n",
              "            (LayerNorm): LayerNorm((768,), eps=1e-12, elementwise_affine=True)\n",
              "            (dropout): Dropout(p=0.1, inplace=False)\n",
              "          )\n",
              "        )\n",
              "        (6): BertLayer(\n",
              "          (attention): BertAttention(\n",
              "            (self): BertSelfAttention(\n",
              "              (query): Linear(in_features=768, out_features=768, bias=True)\n",
              "              (key): Linear(in_features=768, out_features=768, bias=True)\n",
              "              (value): Linear(in_features=768, out_features=768, bias=True)\n",
              "              (dropout): Dropout(p=0.1, inplace=False)\n",
              "            )\n",
              "            (output): BertSelfOutput(\n",
              "              (dense): Linear(in_features=768, out_features=768, bias=True)\n",
              "              (LayerNorm): LayerNorm((768,), eps=1e-12, elementwise_affine=True)\n",
              "              (dropout): Dropout(p=0.1, inplace=False)\n",
              "            )\n",
              "          )\n",
              "          (intermediate): BertIntermediate(\n",
              "            (dense): Linear(in_features=768, out_features=3072, bias=True)\n",
              "          )\n",
              "          (output): BertOutput(\n",
              "            (dense): Linear(in_features=3072, out_features=768, bias=True)\n",
              "            (LayerNorm): LayerNorm((768,), eps=1e-12, elementwise_affine=True)\n",
              "            (dropout): Dropout(p=0.1, inplace=False)\n",
              "          )\n",
              "        )\n",
              "        (7): BertLayer(\n",
              "          (attention): BertAttention(\n",
              "            (self): BertSelfAttention(\n",
              "              (query): Linear(in_features=768, out_features=768, bias=True)\n",
              "              (key): Linear(in_features=768, out_features=768, bias=True)\n",
              "              (value): Linear(in_features=768, out_features=768, bias=True)\n",
              "              (dropout): Dropout(p=0.1, inplace=False)\n",
              "            )\n",
              "            (output): BertSelfOutput(\n",
              "              (dense): Linear(in_features=768, out_features=768, bias=True)\n",
              "              (LayerNorm): LayerNorm((768,), eps=1e-12, elementwise_affine=True)\n",
              "              (dropout): Dropout(p=0.1, inplace=False)\n",
              "            )\n",
              "          )\n",
              "          (intermediate): BertIntermediate(\n",
              "            (dense): Linear(in_features=768, out_features=3072, bias=True)\n",
              "          )\n",
              "          (output): BertOutput(\n",
              "            (dense): Linear(in_features=3072, out_features=768, bias=True)\n",
              "            (LayerNorm): LayerNorm((768,), eps=1e-12, elementwise_affine=True)\n",
              "            (dropout): Dropout(p=0.1, inplace=False)\n",
              "          )\n",
              "        )\n",
              "        (8): BertLayer(\n",
              "          (attention): BertAttention(\n",
              "            (self): BertSelfAttention(\n",
              "              (query): Linear(in_features=768, out_features=768, bias=True)\n",
              "              (key): Linear(in_features=768, out_features=768, bias=True)\n",
              "              (value): Linear(in_features=768, out_features=768, bias=True)\n",
              "              (dropout): Dropout(p=0.1, inplace=False)\n",
              "            )\n",
              "            (output): BertSelfOutput(\n",
              "              (dense): Linear(in_features=768, out_features=768, bias=True)\n",
              "              (LayerNorm): LayerNorm((768,), eps=1e-12, elementwise_affine=True)\n",
              "              (dropout): Dropout(p=0.1, inplace=False)\n",
              "            )\n",
              "          )\n",
              "          (intermediate): BertIntermediate(\n",
              "            (dense): Linear(in_features=768, out_features=3072, bias=True)\n",
              "          )\n",
              "          (output): BertOutput(\n",
              "            (dense): Linear(in_features=3072, out_features=768, bias=True)\n",
              "            (LayerNorm): LayerNorm((768,), eps=1e-12, elementwise_affine=True)\n",
              "            (dropout): Dropout(p=0.1, inplace=False)\n",
              "          )\n",
              "        )\n",
              "        (9): BertLayer(\n",
              "          (attention): BertAttention(\n",
              "            (self): BertSelfAttention(\n",
              "              (query): Linear(in_features=768, out_features=768, bias=True)\n",
              "              (key): Linear(in_features=768, out_features=768, bias=True)\n",
              "              (value): Linear(in_features=768, out_features=768, bias=True)\n",
              "              (dropout): Dropout(p=0.1, inplace=False)\n",
              "            )\n",
              "            (output): BertSelfOutput(\n",
              "              (dense): Linear(in_features=768, out_features=768, bias=True)\n",
              "              (LayerNorm): LayerNorm((768,), eps=1e-12, elementwise_affine=True)\n",
              "              (dropout): Dropout(p=0.1, inplace=False)\n",
              "            )\n",
              "          )\n",
              "          (intermediate): BertIntermediate(\n",
              "            (dense): Linear(in_features=768, out_features=3072, bias=True)\n",
              "          )\n",
              "          (output): BertOutput(\n",
              "            (dense): Linear(in_features=3072, out_features=768, bias=True)\n",
              "            (LayerNorm): LayerNorm((768,), eps=1e-12, elementwise_affine=True)\n",
              "            (dropout): Dropout(p=0.1, inplace=False)\n",
              "          )\n",
              "        )\n",
              "        (10): BertLayer(\n",
              "          (attention): BertAttention(\n",
              "            (self): BertSelfAttention(\n",
              "              (query): Linear(in_features=768, out_features=768, bias=True)\n",
              "              (key): Linear(in_features=768, out_features=768, bias=True)\n",
              "              (value): Linear(in_features=768, out_features=768, bias=True)\n",
              "              (dropout): Dropout(p=0.1, inplace=False)\n",
              "            )\n",
              "            (output): BertSelfOutput(\n",
              "              (dense): Linear(in_features=768, out_features=768, bias=True)\n",
              "              (LayerNorm): LayerNorm((768,), eps=1e-12, elementwise_affine=True)\n",
              "              (dropout): Dropout(p=0.1, inplace=False)\n",
              "            )\n",
              "          )\n",
              "          (intermediate): BertIntermediate(\n",
              "            (dense): Linear(in_features=768, out_features=3072, bias=True)\n",
              "          )\n",
              "          (output): BertOutput(\n",
              "            (dense): Linear(in_features=3072, out_features=768, bias=True)\n",
              "            (LayerNorm): LayerNorm((768,), eps=1e-12, elementwise_affine=True)\n",
              "            (dropout): Dropout(p=0.1, inplace=False)\n",
              "          )\n",
              "        )\n",
              "        (11): BertLayer(\n",
              "          (attention): BertAttention(\n",
              "            (self): BertSelfAttention(\n",
              "              (query): Linear(in_features=768, out_features=768, bias=True)\n",
              "              (key): Linear(in_features=768, out_features=768, bias=True)\n",
              "              (value): Linear(in_features=768, out_features=768, bias=True)\n",
              "              (dropout): Dropout(p=0.1, inplace=False)\n",
              "            )\n",
              "            (output): BertSelfOutput(\n",
              "              (dense): Linear(in_features=768, out_features=768, bias=True)\n",
              "              (LayerNorm): LayerNorm((768,), eps=1e-12, elementwise_affine=True)\n",
              "              (dropout): Dropout(p=0.1, inplace=False)\n",
              "            )\n",
              "          )\n",
              "          (intermediate): BertIntermediate(\n",
              "            (dense): Linear(in_features=768, out_features=3072, bias=True)\n",
              "          )\n",
              "          (output): BertOutput(\n",
              "            (dense): Linear(in_features=3072, out_features=768, bias=True)\n",
              "            (LayerNorm): LayerNorm((768,), eps=1e-12, elementwise_affine=True)\n",
              "            (dropout): Dropout(p=0.1, inplace=False)\n",
              "          )\n",
              "        )\n",
              "      )\n",
              "    )\n",
              "    (pooler): BertPooler(\n",
              "      (dense): Linear(in_features=768, out_features=768, bias=True)\n",
              "      (activation): Tanh()\n",
              "    )\n",
              "  )\n",
              "  (linear): Linear(in_features=768, out_features=256, bias=True)\n",
              "  (linear2): Linear(in_features=256, out_features=128, bias=True)\n",
              "  (linear3): Linear(in_features=128, out_features=2, bias=True)\n",
              "  (relu): ReLU()\n",
              "  (log): LogSoftmax(dim=1)\n",
              ")"
            ]
          },
          "execution_count": 24,
          "metadata": {},
          "output_type": "execute_result"
        }
      ],
      "source": [
        "#initialize the BERT \n",
        "\n",
        "bertconfig = BertConfig()\n",
        "tokenizer2 = AutoTokenizer.from_pretrained(\"bert-base-uncased\")\n",
        "\n",
        "bert2 = BertModel.from_pretrained(\"bert-base-uncased\")\n",
        "\n",
        "#Only want to train the additional layers at first,freezing pretrained\n",
        "for param in bert2.parameters():\n",
        "    param.requires_grad = False\n",
        "\n",
        "# Create a model which takes output from BERT and run through new layers for classification\n",
        "\n",
        "\n",
        "class bert_for_sarcasm(nn.Module):\n",
        "\n",
        "    def __init__(self,input_model):\n",
        "        super(bert_for_sarcasm,self).__init__()\n",
        "        \n",
        "        self.input_model = input_model\n",
        "        \n",
        "        self.linear = nn.Linear(768,256)\n",
        "        \n",
        "        self.linear2 = nn.Linear(256,128)\n",
        "        \n",
        "        self.linear3 = nn.Linear(128,2)\n",
        "        \n",
        "        self.relu = nn.ReLU()\n",
        "        \n",
        "        self.log = nn.LogSoftmax(dim = 1)\n",
        "    \n",
        "    def forward(self,input_values,attention_mask):\n",
        "        \n",
        "        _,output = self.input_model(input_values, attention_mask=attention_mask).values()\n",
        "\n",
        "        output = self.linear(output)\n",
        "        \n",
        "        output = self.relu(output)\n",
        "        \n",
        "        output = self.linear2(output)\n",
        "        \n",
        "        output = self.relu(output)\n",
        "        \n",
        "        output = self.linear3(output)\n",
        "        \n",
        "        output = self.log(output)\n",
        "        \n",
        "        return output\n",
        "    \n",
        "    \n",
        "#Put updated sarcasm model on GPU\n",
        "sarcasm_model = bert_for_sarcasm(bert2)\n",
        "sarcasm_model.to(device)\n",
        "\n"
      ]
    },
    {
      "cell_type": "code",
      "execution_count": null,
      "metadata": {
        "id": "x7DF9izXBZ5_"
      },
      "outputs": [],
      "source": [
        ""
      ]
    },
    {
      "cell_type": "code",
      "execution_count": null,
      "metadata": {
        "id": "Dkq9RWyaBZ5_"
      },
      "outputs": [],
      "source": [
        "#Set max length for the padding/clipping\n",
        "count = df['headline'].str.split().str.len()\n",
        "count.describe()\n",
        "\n",
        "max_length = 35\n",
        "batch_size = 16\n",
        "#Create tokenized training, validation, and test splits\n",
        "\n",
        "training_tokens = tokenizer2.batch_encode_plus(train_headlines.tolist(),max_length = max_length,padding = True,truncation = True)\n",
        "validation_tokens = tokenizer2.batch_encode_plus(validation_headlines.tolist(),max_length = max_length,padding = True,truncation = True)\n",
        "test_tokens = tokenizer2.batch_encode_plus(test_headlines.tolist(),max_length = max_length,padding= True,truncation = True)\n",
        "\n",
        "#Stacking the inputs as tensors for use in the BERT model\n",
        "\n",
        "training_set = TensorDataset(torch.tensor(training_tokens['input_ids']),torch.tensor(training_tokens['attention_mask']),torch.tensor(train_label.tolist()))\n",
        "validation_set = TensorDataset(torch.tensor(validation_tokens['input_ids']),torch.tensor(validation_tokens['attention_mask']),torch.tensor(validation_label.tolist()))\n",
        "test_set = TensorDataset(torch.tensor(test_tokens['input_ids']),torch.tensor(test_tokens['attention_mask']),torch.tensor(test_label.tolist()))\n",
        "\n",
        "\n",
        "#Dataloaders for the sets\n",
        "\n",
        "trainloader = DataLoader(training_set, batch_size = batch_size,num_workers=2,shuffle = True)\n",
        "validationloader = DataLoader(validation_set, batch_size = batch_size,num_workers=2,shuffle = True)\n",
        "testloader = DataLoader(test_set, batch_size = batch_size,num_workers=2,shuffle = True)\n",
        "\n",
        "#Loss function (standard in the BERT documentation is MSELoss)\n",
        "loss_function = nn.NLLLoss()\n",
        "\n"
      ]
    },
    {
      "cell_type": "code",
      "execution_count": null,
      "metadata": {
        "id": "07pcH3SsBZ6A",
        "outputId": "76bbb508-803e-4771-d082-b87191e8ef29",
        "colab": {
          "referenced_widgets": [
            "d178e89f1e934062ab995fd8fa244231",
            "355121056619492fad68eccb045bc383",
            "49c597e21a9b402db2fc2ed3aa98d28d",
            "2725b5bb4986440c947ee4f7f7e4ed0a"
          ]
        }
      },
      "outputs": [
        {
          "name": "stdout",
          "output_type": "stream",
          "text": [
            "Epoch:  1\n"
          ]
        },
        {
          "data": {
            "application/vnd.jupyter.widget-view+json": {
              "model_id": "d178e89f1e934062ab995fd8fa244231",
              "version_major": 2,
              "version_minor": 0
            },
            "text/plain": [
              "HBox(children=(HTML(value=''), FloatProgress(value=0.0, max=1431.0), HTML(value='')))"
            ]
          },
          "metadata": {},
          "output_type": "display_data"
        },
        {
          "name": "stdout",
          "output_type": "stream",
          "text": [
            "Loss:  0.6946685314178467\n",
            "Loss:  0.7624862194061279\n",
            "Loss:  0.5097077488899231\n",
            "Loss:  0.4342424273490906\n",
            "Loss:  0.6400635838508606\n",
            "Loss:  0.45576587319374084\n",
            "Loss:  0.41270604729652405\n",
            "Loss:  0.5740150809288025\n",
            "Loss:  0.6605370044708252\n",
            "Loss:  0.49485713243484497\n",
            "Loss:  0.49915626645088196\n",
            "Loss:  0.5157905220985413\n",
            "Loss:  0.6512148380279541\n",
            "Loss:  0.507512629032135\n",
            "Loss:  0.6528090834617615\n",
            "\n",
            "Epoch:  2\n"
          ]
        },
        {
          "data": {
            "application/vnd.jupyter.widget-view+json": {
              "model_id": "355121056619492fad68eccb045bc383",
              "version_major": 2,
              "version_minor": 0
            },
            "text/plain": [
              "HBox(children=(HTML(value=''), FloatProgress(value=0.0, max=1431.0), HTML(value='')))"
            ]
          },
          "metadata": {},
          "output_type": "display_data"
        },
        {
          "name": "stdout",
          "output_type": "stream",
          "text": [
            "Loss:  0.42927053570747375\n",
            "Loss:  0.48973336815834045\n",
            "Loss:  0.42011046409606934\n",
            "Loss:  0.786328136920929\n",
            "Loss:  0.4401737451553345\n",
            "Loss:  0.36362722516059875\n",
            "Loss:  0.4542113244533539\n",
            "Loss:  0.3877626657485962\n",
            "Loss:  0.38293612003326416\n",
            "Loss:  0.3922159969806671\n",
            "Loss:  0.3293704390525818\n",
            "Loss:  0.3334474563598633\n",
            "Loss:  0.5162965655326843\n",
            "Loss:  0.34677645564079285\n",
            "Loss:  0.3888673186302185\n",
            "\n",
            "Epoch:  3\n"
          ]
        },
        {
          "data": {
            "application/vnd.jupyter.widget-view+json": {
              "model_id": "49c597e21a9b402db2fc2ed3aa98d28d",
              "version_major": 2,
              "version_minor": 0
            },
            "text/plain": [
              "HBox(children=(HTML(value=''), FloatProgress(value=0.0, max=1431.0), HTML(value='')))"
            ]
          },
          "metadata": {},
          "output_type": "display_data"
        },
        {
          "name": "stdout",
          "output_type": "stream",
          "text": [
            "Loss:  0.4259621798992157\n",
            "Loss:  0.6958497762680054\n",
            "Loss:  0.2669283449649811\n",
            "Loss:  0.35002878308296204\n",
            "Loss:  0.4710785448551178\n",
            "Loss:  0.5304607152938843\n",
            "Loss:  0.25705429911613464\n",
            "Loss:  0.5202292799949646\n",
            "Loss:  0.4129214286804199\n",
            "Loss:  0.45299890637397766\n",
            "Loss:  0.4684998095035553\n",
            "Loss:  0.40212544798851013\n",
            "Loss:  0.37286877632141113\n",
            "Loss:  0.5327225923538208\n",
            "Loss:  0.21048025786876678\n",
            "\n",
            "Epoch:  4\n"
          ]
        },
        {
          "data": {
            "application/vnd.jupyter.widget-view+json": {
              "model_id": "2725b5bb4986440c947ee4f7f7e4ed0a",
              "version_major": 2,
              "version_minor": 0
            },
            "text/plain": [
              "HBox(children=(HTML(value=''), FloatProgress(value=0.0, max=1431.0), HTML(value='')))"
            ]
          },
          "metadata": {},
          "output_type": "display_data"
        },
        {
          "name": "stdout",
          "output_type": "stream",
          "text": [
            "Loss:  0.5896018743515015\n",
            "Loss:  0.2294345647096634\n",
            "Loss:  0.46674901247024536\n",
            "Loss:  0.43182530999183655\n",
            "Loss:  0.4262551963329315\n",
            "Loss:  0.4975981116294861\n",
            "Loss:  0.3880462348461151\n",
            "Loss:  0.48125943541526794\n",
            "Loss:  0.2505165934562683\n",
            "Loss:  0.37281274795532227\n",
            "Loss:  0.3356032073497772\n",
            "Loss:  0.4041266441345215\n",
            "Loss:  0.5346697568893433\n",
            "Loss:  0.2478064000606537\n",
            "Loss:  0.43881955742836\n",
            "\n"
          ]
        }
      ],
      "source": [
        "#Training sarcasm bert\n",
        "Epochs = 4\n",
        "\n",
        "#optimizer and scheduler for learning rate\n",
        "optimizer = AdamW(sarcasm_model.parameters(),lr = 1e-3,eps = 1e-6)\n",
        "# scheduler = get_linear_schedule_with_warmup(optimizer,num_warmup_steps = 0,num_training_steps = len(trainloader)*Epochs)\n",
        "\n",
        "loss_acc = 0 \n",
        "sarcasm_model.train()\n",
        "for epoch in range(1, Epochs+1):\n",
        "    print('Epoch: ',epoch)\n",
        "    for idx, (inputs,attention_mask,label) in enumerate(tqdm(trainloader,total = len(trainloader))):\n",
        "\n",
        "        inputs,attention_mask,label = inputs.to(device),attention_mask.to(device),label.to(device)\n",
        "\n",
        "        sarcasm_model.zero_grad()\n",
        "\n",
        "        output = sarcasm_model(inputs,attention_mask)\n",
        "\n",
        "        loss = loss_function(output,label)\n",
        "\n",
        "        loss.backward()\n",
        "        optimizer.step()\n",
        "#         scheduler.step()\n",
        "        loss_acc +=loss.item()\n",
        "        if idx%100 == 0:\n",
        "            print('Loss: ',float(loss))\n",
        "    "
      ]
    },
    {
      "cell_type": "code",
      "execution_count": null,
      "metadata": {
        "id": "yxzWoUqtBZ6A",
        "outputId": "eee47ea0-87b5-4b98-cbe2-acc4d07d4866",
        "colab": {
          "referenced_widgets": [
            "826fd3b81e954d55b026187d3cd75e98"
          ]
        }
      },
      "outputs": [
        {
          "data": {
            "application/vnd.jupyter.widget-view+json": {
              "model_id": "826fd3b81e954d55b026187d3cd75e98",
              "version_major": 2,
              "version_minor": 0
            },
            "text/plain": [
              "HBox(children=(HTML(value=''), FloatProgress(value=0.0, max=179.0), HTML(value='')))"
            ]
          },
          "metadata": {},
          "output_type": "display_data"
        },
        {
          "name": "stdout",
          "output_type": "stream",
          "text": [
            "\n"
          ]
        }
      ],
      "source": [
        "correct = []\n",
        "final_pred = []\n",
        "final_lab = []\n",
        "with torch.no_grad():\n",
        "    \n",
        "    for idx, (inputs,attention_mask,label) in enumerate(tqdm(testloader,total = len(testloader))):\n",
        "        inputs,attention_mask,label = inputs.to(device),attention_mask.to(device), label.to(device)\n",
        "        output = sarcasm_model(inputs,attention_mask).cpu()\n",
        "        preds = output.data.max(1, keepdim=True)[1].squeeze(1).numpy()\n",
        "\n",
        "        l = label.cpu().numpy()\n",
        "        comp = l == preds\n",
        "        final_lab.extend(l)\n",
        "        final_pred.extend(preds)\n",
        "        for i in range(l.size):\n",
        "          if comp[i] == True:\n",
        "            correct.append(1)\n",
        "          else:\n",
        "            correct.append(0)\n",
        "    \n"
      ]
    },
    {
      "cell_type": "code",
      "execution_count": null,
      "metadata": {
        "id": "fAZIuUTYBZ6A",
        "outputId": "1b5dde62-52bc-41f9-db04-30fd1f20ff82"
      },
      "outputs": [
        {
          "name": "stdout",
          "output_type": "stream",
          "text": [
            "\u001b[1mPrecision, Recall and Accuracy for Headline Data:\n",
            "\n",
            "               precision    recall  f1-score   support\n",
            "\n",
            "    Sarcastic       0.78      0.83      0.80      1499\n",
            "Not Sarcastic       0.80      0.74      0.77      1363\n",
            "\n",
            "     accuracy                           0.79      2862\n",
            "    macro avg       0.79      0.78      0.79      2862\n",
            " weighted avg       0.79      0.79      0.79      2862\n",
            "\n"
          ]
        },
        {
          "data": {
            "image/png": "[encoded data removed]",
            "text/plain": [
              "<Figure size 1440x1440 with 2 Axes>"
            ]
          },
          "metadata": {
            "needs_background": "light"
          },
          "output_type": "display_data"
        }
      ],
      "source": [
        "#Confusion Matrix\n",
        "conf_mat = confusion_matrix(final_lab, final_pred)\n",
        "disp = ConfusionMatrixDisplay(confusion_matrix=conf_mat)\n",
        "fig, ax = plt.subplots(figsize=(20,20))\n",
        "plt.title('Confusion Matrix For Sarcasm_BERT')\n",
        "disp.plot(ax = ax)\n",
        "\n",
        "r_words = [\"Sarcastic\",\"Not Sarcastic\"]\n",
        "class_report = classification_report(final_lab,final_pred,target_names =r_words)\n",
        "print('\\033[1m'+'Precision, Recall and Accuracy for Headline Data:\\n')\n",
        "print(class_report)"
      ]
    },
    {
      "cell_type": "code",
      "execution_count": null,
      "metadata": {
        "id": "KTFBJIbNBZ6B"
      },
      "outputs": [],
      "source": [
        "# #Optimizer and training\n",
        "# Epochs = 1\n",
        "# optimizer = AdamW(bert_model.parameters(),lr = 1e-3,eps = 1e-6)\n",
        "# scheduler = get_linear_schedule_with_warmup(optimizer,num_warmup_steps = 0,num_training_steps = len(trainloader)*Epochs)\n",
        "\n",
        "# predictions = []\n",
        "# labels = []\n",
        "\n",
        "# final_loss = 0\n",
        "\n",
        "# bert_model.train()\n",
        "\n",
        "# for epoch in range(1, Epochs+1):\n",
        "#   for batch in tqdm(trainloader,total = len(trainloader)):\n",
        "\n",
        "#     labels.extend(batch['labels'].numpy().flatten().tolist())\n",
        "#     # for key,value in batch.items():\n",
        "#     #   batch = {key:value.type(torch.long).to(device)}\n",
        "#     batch = {k:v.type(torch.long).to(device) for k,v in batch.items()}\n",
        "\n",
        "\n",
        "#     bert_model.zero_grad()\n",
        "\n",
        "#     outputs = bert_model(batch['input_ids'],batch['attention_mask'])\n",
        "#     print(len(outputs[1][1]))\n",
        "#     loss,logits = outputs[:2]\n",
        "\n",
        "#     final_loss += loss.item()\n",
        "\n",
        "#     loss.backward()\n",
        "#     optimizer.step()\n",
        "#     scheduler.step()\n",
        "\n",
        "#     logits = logits.detach().cpu().numpy()\n",
        "\n",
        "#     predictions.extend(logits.argmax(axis = -1).flatten().tolist())\n",
        "\n",
        "#   average_loss = final_loss/len(trainloader)"
      ]
    }
  ],
  "metadata": {
    "accelerator": "GPU",
    "colab": {
      "collapsed_sections": [],
      "name": "headlines_bert_updated.ipynb",
      "provenance": [],
      "include_colab_link": true
    },
    "kernelspec": {
      "display_name": "Python 3",
      "language": "python",
      "name": "python3"
    },
    "language_info": {
      "codemirror_mode": {
        "name": "ipython",
        "version": 3
      },
      "file_extension": ".py",
      "mimetype": "text/x-python",
      "name": "python",
      "nbconvert_exporter": "python",
      "pygments_lexer": "ipython3",
      "version": "3.8.6"
    },
    "widgets": {
      "application/vnd.jupyter.widget-state+json": {}
    }
  },
  "nbformat": 4,
  "nbformat_minor": 0
}